{
 "cells": [
  {
   "cell_type": "code",
   "execution_count": 1,
   "id": "63d42c33-c6f5-43cf-91fd-7ca37f42bbe7",
   "metadata": {},
   "outputs": [],
   "source": [
    "import numpy as np\n",
    "import tensorflow_text as text\n",
    "import tensorflow as tf"
   ]
  },
  {
   "cell_type": "code",
   "execution_count": 2,
   "id": "61fa19d6-02e1-4f47-a7d0-15b2cb9466d3",
   "metadata": {},
   "outputs": [],
   "source": [
    "from utils import pos_tagger, sentiment_analyzer"
   ]
  },
  {
   "cell_type": "code",
   "execution_count": 3,
   "id": "e36dd5f2-df6c-4a83-a1b6-e7d4dfbba482",
   "metadata": {},
   "outputs": [],
   "source": [
    "import warnings\n",
    "warnings.filterwarnings('ignore')"
   ]
  },
  {
   "cell_type": "markdown",
   "id": "d43cbdb4-3ea3-473d-bce3-d98dbc00b47f",
   "metadata": {},
   "source": [
    "</br></br></br>"
   ]
  },
  {
   "cell_type": "code",
   "execution_count": 12,
   "id": "17652162-0b0e-438f-9b71-7c85c8b184f2",
   "metadata": {},
   "outputs": [],
   "source": [
    "translator = tf.saved_model.load('translator')"
   ]
  },
  {
   "cell_type": "code",
   "execution_count": 4,
   "id": "1053ee95-cf57-4c20-b944-fccd73bf2a59",
   "metadata": {},
   "outputs": [],
   "source": [
    "original_text = \"este é o primeiro livro que eu fiz.\""
   ]
  },
  {
   "cell_type": "code",
   "execution_count": 14,
   "id": "9701014d-5b3c-4501-9922-ab9d1a8682ca",
   "metadata": {},
   "outputs": [
    {
     "name": "stdout",
     "output_type": "stream",
     "text": [
      "this is the first book i did .\n"
     ]
    }
   ],
   "source": [
    "translated_text = translator(original_text).numpy().decode()\n",
    "print(translated_text)"
   ]
  },
  {
   "cell_type": "markdown",
   "id": "f16c79be-795d-45b1-9ab0-f610c5f478c6",
   "metadata": {},
   "source": [
    "</br></br></br>"
   ]
  },
  {
   "cell_type": "code",
   "execution_count": 5,
   "id": "1c173633-e493-4342-b526-0d7326fcb529",
   "metadata": {},
   "outputs": [],
   "source": [
    "pos_tags = [\"ADJ\", \"NOUN\", \"PROPN\", \"VERB\", \"ADV\"]"
   ]
  },
  {
   "cell_type": "code",
   "execution_count": 7,
   "id": "fc7d8019-dbaa-436a-a37e-b50f3ae6ce22",
   "metadata": {},
   "outputs": [],
   "source": [
    "x = pos_tagger(original_text, \"PT\", pos_tags)"
   ]
  },
  {
   "cell_type": "code",
   "execution_count": 8,
   "id": "f154faf4-38de-465e-8492-7f3b110eb80f",
   "metadata": {},
   "outputs": [
    {
     "name": "stdout",
     "output_type": "stream",
     "text": [
      "+----------+------+-----------------+\n",
      "|   Word   | POS  | POS Description |\n",
      "+----------+------+-----------------+\n",
      "| primeiro | ADJ  |    adjective    |\n",
      "|  livrar  | NOUN |       noun      |\n",
      "|  fazer   | VERB |       verb      |\n",
      "+----------+------+-----------------+\n"
     ]
    }
   ],
   "source": [
    "print(x)"
   ]
  },
  {
   "cell_type": "code",
   "execution_count": 17,
   "id": "384532d6-7907-4878-9e2e-307898168175",
   "metadata": {},
   "outputs": [
    {
     "name": "stdout",
     "output_type": "stream",
     "text": [
      "+-------+------+-----------------+\n",
      "|  Word | POS  | POS Description |\n",
      "+-------+------+-----------------+\n",
      "| first | ADJ  |    adjective    |\n",
      "|  book | NOUN |       noun      |\n",
      "|   do  | VERB |       verb      |\n",
      "+-------+------+-----------------+\n"
     ]
    }
   ],
   "source": [
    "print(pos_tagger(translated_text, \"EN\", pos_tags))"
   ]
  },
  {
   "cell_type": "markdown",
   "id": "1a93920c-3613-46d1-a25f-ddf19fe4b4ff",
   "metadata": {},
   "source": [
    "</br></br></br>"
   ]
  },
  {
   "cell_type": "code",
   "execution_count": 18,
   "id": "bbfcee58-6bba-4c1e-b524-d8dc64832d19",
   "metadata": {},
   "outputs": [
    {
     "name": "stdout",
     "output_type": "stream",
     "text": [
      "Compount sentiment of the text : Neutral\n"
     ]
    }
   ],
   "source": [
    "sentiment, polarity_dict = sentiment_analyzer(original_text, \"PT\")\n",
    "print(f\"Compount sentiment of the text : {sentiment}\")"
   ]
  },
  {
   "cell_type": "code",
   "execution_count": 19,
   "id": "18ed2696-5078-40d4-99f5-417b45284241",
   "metadata": {},
   "outputs": [
    {
     "name": "stdout",
     "output_type": "stream",
     "text": [
      "Compount sentiment of the text : Neutral\n"
     ]
    }
   ],
   "source": [
    "sentiment, polarity_dict = sentiment_analyzer(translated_text, \"EN\")\n",
    "print(f\"Compount sentiment of the text : {sentiment}\")"
   ]
  },
  {
   "cell_type": "code",
   "execution_count": null,
   "id": "3d0a2259-d63b-4814-b378-8b5f2641dbd8",
   "metadata": {},
   "outputs": [],
   "source": []
  },
  {
   "cell_type": "code",
   "execution_count": null,
   "id": "fac445c5-dde6-45c9-a162-ef4a28412b74",
   "metadata": {},
   "outputs": [],
   "source": []
  },
  {
   "cell_type": "code",
   "execution_count": null,
   "id": "c03418d2-2f1c-45d1-899d-9bdccd7a8d46",
   "metadata": {},
   "outputs": [],
   "source": []
  }
 ],
 "metadata": {
  "kernelspec": {
   "display_name": "Python 3 (ipykernel)",
   "language": "python",
   "name": "python3"
  },
  "language_info": {
   "codemirror_mode": {
    "name": "ipython",
    "version": 3
   },
   "file_extension": ".py",
   "mimetype": "text/x-python",
   "name": "python",
   "nbconvert_exporter": "python",
   "pygments_lexer": "ipython3",
   "version": "3.9.7"
  }
 },
 "nbformat": 4,
 "nbformat_minor": 5
}
