{
 "cells": [
  {
   "cell_type": "markdown",
   "metadata": {
    "id": "M-f8TnGpE_ex"
   },
   "source": [
    "This tutorial trains a <a href=\"https://arxiv.org/abs/1706.03762\" class=\"external\">Transformer model</a> to translate a [Portuguese to English dataset](https://www.tensorflow.org/datasets/catalog/ted_hrlr_translate#ted_hrlr_translatept_to_en). This is an advanced example that assumes knowledge of [text generation](https://www.tensorflow.org/text/tutorials/text_generation) and [attention](https://www.tensorflow.org/text/tutorials/nmt_with_attention).\n",
    "\n",
    "The core idea behind the Transformer model is *self-attention*—the ability to attend to different positions of the input sequence to compute a representation of that sequence. Transformer creates stacks of self-attention layers and is explained below in the sections *Scaled dot product attention* and *Multi-head attention*.\n",
    "\n",
    "A transformer model handles variable-sized input using stacks of self-attention layers instead of [RNNs](https://www.tensorflow.org/text/tutorials/text_classification_rnn) or [CNNs](https://www.tensorflow.org/tutorials/images/cnn). This general architecture has a number of advantages:\n",
    "\n",
    "* It makes no assumptions about the temporal/spatial relationships across the data. This is ideal for processing a set of objects (for example, [StarCraft units](https://deepmind.com/blog/alphastar-mastering-real-time-strategy-game-starcraft-ii/#block-8)).\n",
    "* Layer outputs can be calculated in parallel, instead of a series like an RNN.\n",
    "* Distant items can affect each other's output without passing through many RNN-steps, or convolution layers (see [Scene Memory Transformer](https://arxiv.org/pdf/1903.03878.pdf) for example).\n",
    "* It can learn long-range dependencies. This is a challenge in many sequence tasks.\n",
    "\n",
    "The downsides of this architecture are:\n",
    "\n",
    "* For a time-series, the output for a time-step is calculated from the *entire history* instead of only the inputs and current hidden-state. This _may_ be less efficient.   \n",
    "* If the input *does* have a  temporal/spatial relationship, like text, some positional encoding must be added or the model will effectively see a bag of words. \n",
    "\n",
    "After training the model in this notebook, you will be able to input a Portuguese sentence and return the English translation.\n",
    "\n",
    "<img src=\"https://www.tensorflow.org/images/tutorials/transformer/attention_map_portuguese.png\" width=\"800\" alt=\"Attention heatmap\">"
   ]
  },
  {
   "cell_type": "markdown",
   "metadata": {
    "id": "swymtxpl7W7w"
   },
   "source": [
    "## Setup"
   ]
  },
  {
   "cell_type": "code",
   "execution_count": 3,
   "metadata": {
    "execution": {
     "iopub.execute_input": "2022-02-04T13:03:21.874984Z",
     "iopub.status.busy": "2022-02-04T13:03:21.874335Z",
     "iopub.status.idle": "2022-02-04T13:03:25.072461Z",
     "shell.execute_reply": "2022-02-04T13:03:25.071870Z"
    },
    "id": "JjJJyJTZYebt"
   },
   "outputs": [],
   "source": [
    "import collections\n",
    "import logging\n",
    "import os\n",
    "import pathlib\n",
    "import re\n",
    "import string\n",
    "import sys\n",
    "import time\n",
    "\n",
    "import numpy as np\n",
    "import matplotlib.pyplot as plt\n",
    "\n",
    "import tensorflow_datasets as tfds\n",
    "import tensorflow_text as text\n",
    "import tensorflow as tf"
   ]
  },
  {
   "cell_type": "code",
   "execution_count": 4,
   "metadata": {
    "execution": {
     "iopub.execute_input": "2022-02-04T13:03:25.077675Z",
     "iopub.status.busy": "2022-02-04T13:03:25.076902Z",
     "iopub.status.idle": "2022-02-04T13:03:25.079213Z",
     "shell.execute_reply": "2022-02-04T13:03:25.078714Z"
    },
    "id": "pXzVhU34zWEU"
   },
   "outputs": [],
   "source": [
    "logging.getLogger('tensorflow').setLevel(logging.ERROR)  # suppress warnings"
   ]
  },
  {
   "cell_type": "markdown",
   "metadata": {
    "id": "-cCvXbPkccV1"
   },
   "source": [
    "## Download the Dataset"
   ]
  },
  {
   "cell_type": "markdown",
   "metadata": {
    "id": "t4_Qt8W1hJE_"
   },
   "source": [
    "Use [TensorFlow datasets](https://www.tensorflow.org/datasets) to load the [Portuguese-English translation dataset](https://github.com/neulab/word-embeddings-for-nmt) from the [TED Talks Open Translation Project](https://www.ted.com/participate/translate).\n",
    "\n",
    "This dataset contains approximately 50000 training examples, 1100 validation examples, and 2000 test examples."
   ]
  },
  {
   "cell_type": "code",
   "execution_count": 5,
   "metadata": {
    "execution": {
     "iopub.execute_input": "2022-02-04T13:03:25.084093Z",
     "iopub.status.busy": "2022-02-04T13:03:25.083467Z",
     "iopub.status.idle": "2022-02-04T13:03:29.464618Z",
     "shell.execute_reply": "2022-02-04T13:03:29.464034Z"
    },
    "id": "8q9t4FmN96eN"
   },
   "outputs": [],
   "source": [
    "examples, metadata = tfds.load('ted_hrlr_translate/pt_to_en', with_info=True,\n",
    "                               as_supervised=True)\n",
    "train_examples, val_examples = examples['train'], examples['validation']"
   ]
  },
  {
   "cell_type": "code",
   "execution_count": 87,
   "metadata": {
    "execution": {
     "iopub.execute_input": "2022-02-04T13:03:29.470688Z",
     "iopub.status.busy": "2022-02-04T13:03:29.469988Z",
     "iopub.status.idle": "2022-02-04T13:03:29.939108Z",
     "shell.execute_reply": "2022-02-04T13:03:29.938485Z"
    },
    "id": "AtuMLTQGlHZ1"
   },
   "outputs": [
    {
     "name": "stdout",
     "output_type": "stream",
     "text": [
      "e quando melhoramos a procura , tiramos a única vantagem da impressão , que é a serendipidade .\n",
      "mas e se estes fatores fossem ativos ?\n",
      "mas eles não tinham a curiosidade de me testar .\n",
      "e esta rebeldia consciente é a razão pela qual eu , como agnóstica , posso ainda ter fé .\n",
      "\n",
      "and when you improve searchability , you actually take away the one advantage of print , which is serendipity .\n",
      "but what if it were active ?\n",
      "but they did n't test for curiosity .\n",
      "and this conscious defiance is why i , as an agnostic , can still have faith .\n"
     ]
    }
   ],
   "source": [
    "for pt_examples, en_examples in train_examples.batch(4).take(1):\n",
    "  for pt in pt_examples.numpy():\n",
    "    print(pt.decode('utf-8'))\n",
    "\n",
    "  print()\n",
    "\n",
    "  for en in en_examples.numpy():\n",
    "    print(en.decode('utf-8'))"
   ]
  },
  {
   "cell_type": "markdown",
   "metadata": {
    "id": "eJxTd6aVnZyh"
   },
   "source": [
    "## Text tokenization & detokenization"
   ]
  },
  {
   "cell_type": "markdown",
   "source": [
    "The text needs to be tokenized, to do this, we use a pretrained tokenizer for the dataset.\n",
    "\n",
    "\n",
    "Essentially the tokenizer generates its dictionary based off of the most popular words, and for less popular words it creates them through small subwords based on the most occurring permutations of the words i.e. if a words is popular it will have its own token, but if it is not popular it will be compromised of various sub tokens."
   ],
   "metadata": {
    "collapsed": false
   }
  },
  {
   "cell_type": "code",
   "execution_count": 7,
   "metadata": {
    "execution": {
     "iopub.execute_input": "2022-02-04T13:03:29.944442Z",
     "iopub.status.busy": "2022-02-04T13:03:29.943825Z",
     "iopub.status.idle": "2022-02-04T13:03:30.157107Z",
     "shell.execute_reply": "2022-02-04T13:03:30.156624Z"
    },
    "id": "QToMl0NanZPr"
   },
   "outputs": [
    {
     "data": {
      "text/plain": "'.\\\\ted_hrlr_translate_pt_en_converter.zip'"
     },
     "execution_count": 7,
     "metadata": {},
     "output_type": "execute_result"
    }
   ],
   "source": [
    "model_name = \"ted_hrlr_translate_pt_en_converter\"\n",
    "tf.keras.utils.get_file(\n",
    "    f\"{model_name}.zip\",\n",
    "    f\"https://storage.googleapis.com/download.tensorflow.org/models/{model_name}.zip\",\n",
    "    cache_dir='.', cache_subdir='', extract=True\n",
    ")"
   ]
  },
  {
   "cell_type": "code",
   "execution_count": 8,
   "metadata": {
    "execution": {
     "iopub.execute_input": "2022-02-04T13:03:30.161531Z",
     "iopub.status.busy": "2022-02-04T13:03:30.160949Z",
     "iopub.status.idle": "2022-02-04T13:03:31.043083Z",
     "shell.execute_reply": "2022-02-04T13:03:31.043517Z"
    },
    "id": "h5dbGnPXnuI1"
   },
   "outputs": [],
   "source": [
    "tokenizers = tf.saved_model.load(model_name)"
   ]
  },
  {
   "cell_type": "markdown",
   "metadata": {
    "id": "KQYc0CJTpnvg"
   },
   "source": [
    "The tokenizer contains tokenizers for both English and Portuguese.\n",
    "The tokenizer has the following methods:"
   ]
  },
  {
   "cell_type": "code",
   "execution_count": 9,
   "metadata": {
    "execution": {
     "iopub.execute_input": "2022-02-04T13:03:31.049375Z",
     "iopub.status.busy": "2022-02-04T13:03:31.048715Z",
     "iopub.status.idle": "2022-02-04T13:03:31.051839Z",
     "shell.execute_reply": "2022-02-04T13:03:31.051378Z"
    },
    "id": "s-PCJijfcZ9_"
   },
   "outputs": [
    {
     "data": {
      "text/plain": "['detokenize',\n 'get_reserved_tokens',\n 'get_vocab_path',\n 'get_vocab_size',\n 'lookup',\n 'tokenize',\n 'tokenizer',\n 'vocab']"
     },
     "execution_count": 9,
     "metadata": {},
     "output_type": "execute_result"
    }
   ],
   "source": [
    "[item for item in dir(tokenizers.en) if not item.startswith('_')]"
   ]
  },
  {
   "cell_type": "markdown",
   "metadata": {
    "id": "-pv_nc5lrAiD"
   },
   "source": [
    "Tokenizing converts strings to tokens representing words. This method splits punctuation, lowercases and unicode-normalizes the input before tokenizing."
   ]
  },
  {
   "cell_type": "code",
   "execution_count": 10,
   "metadata": {
    "execution": {
     "iopub.execute_input": "2022-02-04T13:03:31.056328Z",
     "iopub.status.busy": "2022-02-04T13:03:31.055709Z",
     "iopub.status.idle": "2022-02-04T13:03:31.058423Z",
     "shell.execute_reply": "2022-02-04T13:03:31.058835Z"
    },
    "id": "0GV-smAAQJtM"
   },
   "outputs": [
    {
     "name": "stdout",
     "output_type": "stream",
     "text": [
      "and when you improve searchability , you actually take away the one advantage of print , which is serendipity .\n",
      "but what if it were active ?\n",
      "but they did n't test for curiosity .\n"
     ]
    }
   ],
   "source": [
    "for en in en_examples.numpy():\n",
    "  print(en.decode('utf-8'))"
   ]
  },
  {
   "cell_type": "code",
   "execution_count": 11,
   "metadata": {
    "execution": {
     "iopub.execute_input": "2022-02-04T13:03:31.065111Z",
     "iopub.status.busy": "2022-02-04T13:03:31.063473Z",
     "iopub.status.idle": "2022-02-04T13:03:31.337611Z",
     "shell.execute_reply": "2022-02-04T13:03:31.337088Z"
    },
    "id": "2fQJq1xB-tOn"
   },
   "outputs": [
    {
     "name": "stdout",
     "output_type": "stream",
     "text": [
      "[2, 72, 117, 79, 1259, 1491, 2362, 13, 79, 150, 184, 311, 71, 103, 2308, 74, 2679, 13, 148, 80, 55, 4840, 1434, 2423, 540, 15, 3]\n",
      "[2, 87, 90, 107, 76, 129, 1852, 30, 3]\n",
      "[2, 87, 83, 149, 50, 9, 56, 664, 85, 2512, 15, 3]\n"
     ]
    }
   ],
   "source": [
    "encoded = tokenizers.en.tokenize(en_examples)\n",
    "\n",
    "for row in encoded.to_list():\n",
    "  print(row)"
   ]
  },
  {
   "cell_type": "markdown",
   "metadata": {
    "id": "dBRlikwDR2Lu"
   },
   "source": [
    "Detokenizing reverses the process."
   ]
  },
  {
   "cell_type": "code",
   "execution_count": 12,
   "metadata": {
    "execution": {
     "iopub.execute_input": "2022-02-04T13:03:31.343554Z",
     "iopub.status.busy": "2022-02-04T13:03:31.342549Z",
     "iopub.status.idle": "2022-02-04T13:03:31.474993Z",
     "shell.execute_reply": "2022-02-04T13:03:31.475418Z"
    },
    "id": "Tpqx1aug3W31"
   },
   "outputs": [
    {
     "name": "stdout",
     "output_type": "stream",
     "text": [
      "and when you improve searchability , you actually take away the one advantage of print , which is serendipity .\n",
      "but what if it were active ?\n",
      "but they did n ' t test for curiosity .\n"
     ]
    }
   ],
   "source": [
    "round_trip = tokenizers.en.detokenize(encoded)\n",
    "for line in round_trip.numpy():\n",
    "  print(line.decode('utf-8'))"
   ]
  },
  {
   "cell_type": "markdown",
   "metadata": {
    "id": "e5mGvytArL9g"
   },
   "source": [
    "We can see the lower level structure of the tokens. The data is stored as a RaggedTensor, meaning that each sample has different lengths. Less popular words are split into sub tokens, indicated by the ##"
   ]
  },
  {
   "cell_type": "code",
   "execution_count": 13,
   "metadata": {
    "execution": {
     "iopub.execute_input": "2022-02-04T13:03:31.481352Z",
     "iopub.status.busy": "2022-02-04T13:03:31.480738Z",
     "iopub.status.idle": "2022-02-04T13:03:31.500791Z",
     "shell.execute_reply": "2022-02-04T13:03:31.500296Z"
    },
    "id": "RpzRLzvIuN3R"
   },
   "outputs": [
    {
     "data": {
      "text/plain": "<tf.RaggedTensor [[b'[START]', b'and', b'when', b'you', b'improve', b'search', b'##ability', b',', b'you', b'actually', b'take', b'away', b'the', b'one', b'advantage', b'of', b'print', b',', b'which', b'is', b's', b'##ere', b'##nd', b'##ip', b'##ity', b'.', b'[END]'], [b'[START]', b'but', b'what', b'if', b'it', b'were', b'active', b'?', b'[END]'], [b'[START]', b'but', b'they', b'did', b'n', b\"'\", b't', b'test', b'for', b'curiosity', b'.', b'[END]']]>"
     },
     "execution_count": 13,
     "metadata": {},
     "output_type": "execute_result"
    }
   ],
   "source": [
    "tokens = tokenizers.en.lookup(encoded)\n",
    "tokens"
   ]
  },
  {
   "cell_type": "markdown",
   "metadata": {
    "id": "fd1NWMxjfsDd"
   },
   "source": [
    "## Model input"
   ]
  },
  {
   "cell_type": "markdown",
   "metadata": {
    "id": "E7JHK7N7tNZy"
   },
   "source": [
    "We need to tokenize the text and convert it to tensors."
   ]
  },
  {
   "cell_type": "code",
   "execution_count": 14,
   "metadata": {
    "execution": {
     "iopub.execute_input": "2022-02-04T13:03:31.506425Z",
     "iopub.status.busy": "2022-02-04T13:03:31.505633Z",
     "iopub.status.idle": "2022-02-04T13:03:31.507720Z",
     "shell.execute_reply": "2022-02-04T13:03:31.508162Z"
    },
    "id": "6shgzEck3FiV"
   },
   "outputs": [],
   "source": [
    "def tokenize_pairs(pt, en):\n",
    "    pt = tokenizers.pt.tokenize(pt)\n",
    "    # Convert from ragged to dense, padding with zeros.\n",
    "    pt = pt.to_tensor()\n",
    "\n",
    "    en = tokenizers.en.tokenize(en)\n",
    "    # Convert from ragged to dense, padding with zeros.\n",
    "    en = en.to_tensor()\n",
    "    return pt, en"
   ]
  },
  {
   "cell_type": "markdown",
   "metadata": {
    "id": "cf2HwC_0wG0v"
   },
   "source": [
    "Batch size of 32 was selected, due to VRAM limitations. We then create shuffled batches from this data."
   ]
  },
  {
   "cell_type": "code",
   "execution_count": 15,
   "metadata": {
    "execution": {
     "iopub.execute_input": "2022-02-04T13:03:31.512447Z",
     "iopub.status.busy": "2022-02-04T13:03:31.511790Z",
     "iopub.status.idle": "2022-02-04T13:03:31.513840Z",
     "shell.execute_reply": "2022-02-04T13:03:31.514237Z"
    },
    "id": "bcRp7VcQ5m6g"
   },
   "outputs": [],
   "source": [
    "BUFFER_SIZE = 20000\n",
    "BATCH_SIZE = 32"
   ]
  },
  {
   "cell_type": "code",
   "execution_count": 16,
   "metadata": {
    "execution": {
     "iopub.execute_input": "2022-02-04T13:03:31.519608Z",
     "iopub.status.busy": "2022-02-04T13:03:31.518973Z",
     "iopub.status.idle": "2022-02-04T13:03:31.737854Z",
     "shell.execute_reply": "2022-02-04T13:03:31.738259Z"
    },
    "id": "BUN_jLBTwNxk"
   },
   "outputs": [],
   "source": [
    "def make_batches(ds):\n",
    "  return (\n",
    "      ds\n",
    "      .cache()\n",
    "      .shuffle(BUFFER_SIZE)\n",
    "      .batch(BATCH_SIZE)\n",
    "      .map(tokenize_pairs, num_parallel_calls=tf.data.AUTOTUNE)\n",
    "      .prefetch(tf.data.AUTOTUNE))\n",
    "\n",
    "\n",
    "train_batches = make_batches(train_examples)\n",
    "val_batches = make_batches(val_examples)"
   ]
  },
  {
   "cell_type": "markdown",
   "metadata": {
    "id": "nBQuibYA4n0n"
   },
   "source": [
    "## Positional encoding\n",
    "\n",
    "The model we will be using is the attention based Encoder-Decoder Transformer. This model does not use any RNN to keep context of words. Instead, the model uses attention combined with an encoding vector. The encoding vector creates the positional vector responsible for identifying the relative position of a word in the input sequence. Essentially similar tokens in similar positions will be near each other in a p-dimensional space.\n",
    "\n",
    "The formula for calculating the positional encoding is as follows:\n",
    "\n",
    "$$\\Large{PE_{(pos, 2i)} = \\sin(pos / 10000^{2i / d_{model}})} $$\n",
    "$$\\Large{PE_{(pos, 2i+1)} = \\cos(pos / 10000^{2i / d_{model}})} $$"
   ]
  },
  {
   "cell_type": "code",
   "execution_count": 17,
   "metadata": {
    "execution": {
     "iopub.execute_input": "2022-02-04T13:03:31.743743Z",
     "iopub.status.busy": "2022-02-04T13:03:31.742923Z",
     "iopub.status.idle": "2022-02-04T13:03:31.744902Z",
     "shell.execute_reply": "2022-02-04T13:03:31.745271Z"
    },
    "id": "WhIOZjMNKujn"
   },
   "outputs": [],
   "source": [
    "def get_angles(pos, i, d_model):\n",
    "  angle_rates = 1 / np.power(10000, (2 * (i//2)) / np.float32(d_model))\n",
    "  return pos * angle_rates"
   ]
  },
  {
   "cell_type": "code",
   "execution_count": 18,
   "metadata": {
    "execution": {
     "iopub.execute_input": "2022-02-04T13:03:31.751441Z",
     "iopub.status.busy": "2022-02-04T13:03:31.750719Z",
     "iopub.status.idle": "2022-02-04T13:03:31.752816Z",
     "shell.execute_reply": "2022-02-04T13:03:31.753219Z"
    },
    "id": "1Rz82wEs5biZ"
   },
   "outputs": [],
   "source": [
    "def positional_encoding(position, d_model):\n",
    "  angle_rads = get_angles(np.arange(position)[:, np.newaxis],\n",
    "                          np.arange(d_model)[np.newaxis, :],\n",
    "                          d_model)\n",
    "\n",
    "  # apply sin to even indices\n",
    "  angle_rads[:, 0::2] = np.sin(angle_rads[:, 0::2])\n",
    "\n",
    "  # apply cos to odd indices\n",
    "  angle_rads[:, 1::2] = np.cos(angle_rads[:, 1::2])\n",
    "\n",
    "  pos_encoding = angle_rads[np.newaxis, ...]\n",
    "\n",
    "  return tf.cast(pos_encoding, dtype=tf.float32)"
   ]
  },
  {
   "cell_type": "markdown",
   "source": [
    "A visualization of the positional encoding for 2048 samples with a 512 dimensional model."
   ],
   "metadata": {
    "collapsed": false
   }
  },
  {
   "cell_type": "code",
   "execution_count": 96,
   "outputs": [
    {
     "name": "stdout",
     "output_type": "stream",
     "text": [
      "(1, 2048, 512)\n"
     ]
    },
    {
     "data": {
      "text/plain": "<Figure size 432x288 with 2 Axes>",
      "image/png": "[encoded data removed]"
     },
     "metadata": {
      "needs_background": "light"
     },
     "output_type": "display_data"
    }
   ],
   "source": [
    "n, d = 2048, 512\n",
    "pos_encoding = positional_encoding(n, d)\n",
    "print(pos_encoding.shape)\n",
    "pos_encoding = pos_encoding[0]\n",
    "\n",
    "# Juggle the dimensions for the plot\n",
    "pos_encoding = tf.reshape(pos_encoding, (n, d//2, 2))\n",
    "pos_encoding = tf.transpose(pos_encoding, (2, 1, 0))\n",
    "pos_encoding = tf.reshape(pos_encoding, (d, n))\n",
    "\n",
    "plt.pcolormesh(pos_encoding, cmap='RdBu')\n",
    "plt.ylabel('Depth')\n",
    "plt.xlabel('Position')\n",
    "plt.colorbar()\n",
    "plt.show()"
   ],
   "metadata": {
    "collapsed": false,
    "pycharm": {
     "name": "#%%\n"
    }
   }
  },
  {
   "cell_type": "markdown",
   "metadata": {
    "id": "a_b4ou4TYqUN"
   },
   "source": [
    "## Masking\n",
    "\n",
    "Next we have to mask the padding tokens to ensure they are not treated as inputs. 1 represents a padded location, 0 otherwise.\n"
   ]
  },
  {
   "cell_type": "code",
   "execution_count": 20,
   "metadata": {
    "execution": {
     "iopub.execute_input": "2022-02-04T13:03:32.439482Z",
     "iopub.status.busy": "2022-02-04T13:03:32.438914Z",
     "iopub.status.idle": "2022-02-04T13:03:32.440640Z",
     "shell.execute_reply": "2022-02-04T13:03:32.441000Z"
    },
    "id": "U2i8-e1s8ti9"
   },
   "outputs": [],
   "source": [
    "def create_padding_mask(seq):\n",
    "  seq = tf.cast(tf.math.equal(seq, 0), tf.float32)\n",
    "\n",
    "  # add extra dimensions to add the padding to the attention logits.\n",
    "  return seq[:, tf.newaxis, tf.newaxis, :]  # (batch_size, 1, 1, seq_len)"
   ]
  },
  {
   "cell_type": "code",
   "execution_count": 21,
   "metadata": {
    "execution": {
     "iopub.execute_input": "2022-02-04T13:03:32.446157Z",
     "iopub.status.busy": "2022-02-04T13:03:32.445562Z",
     "iopub.status.idle": "2022-02-04T13:03:32.450615Z",
     "shell.execute_reply": "2022-02-04T13:03:32.450984Z"
    },
    "id": "A7BYeBCNvi7n"
   },
   "outputs": [
    {
     "data": {
      "text/plain": "<tf.Tensor: shape=(3, 1, 1, 5), dtype=float32, numpy=\narray([[[[0., 0., 1., 1., 0.]]],\n\n\n       [[[0., 0., 0., 1., 1.]]],\n\n\n       [[[1., 1., 1., 0., 0.]]]], dtype=float32)>"
     },
     "execution_count": 21,
     "metadata": {},
     "output_type": "execute_result"
    }
   ],
   "source": [
    "x = tf.constant([[7, 6, 0, 0, 1], [1, 2, 3, 0, 0], [0, 0, 0, 4, 5]])\n",
    "create_padding_mask(x)"
   ]
  },
  {
   "cell_type": "markdown",
   "metadata": {
    "id": "Z0hzukDBgVom"
   },
   "source": [
    "We use the look-ahead to indicates which entries should not be used in teh rest of the sequence. The model should only see the previous values in the sequence.\n"
   ]
  },
  {
   "cell_type": "code",
   "execution_count": 22,
   "metadata": {
    "execution": {
     "iopub.execute_input": "2022-02-04T13:03:32.455148Z",
     "iopub.status.busy": "2022-02-04T13:03:32.454475Z",
     "iopub.status.idle": "2022-02-04T13:03:32.456181Z",
     "shell.execute_reply": "2022-02-04T13:03:32.456569Z"
    },
    "id": "dVxS8OPI9uI0"
   },
   "outputs": [],
   "source": [
    "def create_look_ahead_mask(size):\n",
    "  mask = 1 - tf.linalg.band_part(tf.ones((size, size)), -1, 0)\n",
    "  return mask  # (seq_len, seq_len)"
   ]
  },
  {
   "cell_type": "code",
   "execution_count": 103,
   "metadata": {
    "execution": {
     "iopub.execute_input": "2022-02-04T13:03:32.460696Z",
     "iopub.status.busy": "2022-02-04T13:03:32.460074Z",
     "iopub.status.idle": "2022-02-04T13:03:32.464894Z",
     "shell.execute_reply": "2022-02-04T13:03:32.465251Z"
    },
    "id": "yxKGuXxaBeeE"
   },
   "outputs": [
    {
     "name": "stdout",
     "output_type": "stream",
     "text": [
      "tf.Tensor([[0.5320257  0.49193728 0.80223715 0.0673027 ]], shape=(1, 4), dtype=float32)\n",
      "tf.Tensor(\n",
      "[[0. 1. 1. 1.]\n",
      " [0. 0. 1. 1.]\n",
      " [0. 0. 0. 1.]\n",
      " [0. 0. 0. 0.]], shape=(4, 4), dtype=float32)\n"
     ]
    }
   ],
   "source": [
    "x = tf.random.uniform((1, 4))\n",
    "print(x)\n",
    "temp = create_look_ahead_mask(x.shape[1])\n",
    "print(temp)"
   ]
  },
  {
   "cell_type": "markdown",
   "metadata": {
    "id": "xluDl5cXYy4y"
   },
   "source": [
    "## Scaled dot product attention"
   ]
  },
  {
   "cell_type": "markdown",
   "metadata": {
    "id": "vsxEE_-Wa1gF"
   },
   "source": [
    "<img src=\"https://www.tensorflow.org/images/tutorials/transformer/scaled_attention.png\" width=\"500\" alt=\"scaled_dot_product_attention\">\n",
    "\n",
    "The attention function used by the transformer takes three inputs: Q (query), K (key), V (value). The equation used to calculate the attention weights is:\n",
    "\n",
    "$$\\Large{Attention(Q, K, V) = softmax_k\\left(\\frac{QK^T}{\\sqrt{d_k}}\\right) V} $$\n",
    "\n",
    "<img src=\"https://www.researchgate.net/profile/Shen-Leixian/publication/325856086/figure/fig1/AS:723221292789765@1549440801787/Softmax-function-image.png\">\n",
    "\n",
    "\n",
    "\n",
    "The dot-product attention is scaled by a factor of square root of the depth and the mask is multiplied with -1e9 (close to negative infinity). To better normalize the values."
   ]
  },
  {
   "cell_type": "code",
   "execution_count": 108,
   "metadata": {
    "execution": {
     "iopub.execute_input": "2022-02-04T13:03:32.471289Z",
     "iopub.status.busy": "2022-02-04T13:03:32.470696Z",
     "iopub.status.idle": "2022-02-04T13:03:32.472843Z",
     "shell.execute_reply": "2022-02-04T13:03:32.472306Z"
    },
    "id": "LazzUq3bJ5SH"
   },
   "outputs": [],
   "source": [
    "def scaled_dot_product_attention(q, k, v, mask):\n",
    "\n",
    "  matmul_qk = tf.matmul(q, k, transpose_b=True)\n",
    "\n",
    "  # scale matmul_qk\n",
    "  dk = tf.cast(tf.shape(k)[-1], tf.float32)\n",
    "  scaled_attention_logits = matmul_qk / tf.math.sqrt(dk)\n",
    "\n",
    "  # add the mask to the scaled tensor.\n",
    "  if mask is not None:\n",
    "    scaled_attention_logits += (mask * -1e9)\n",
    "\n",
    "  # softmax is normalized on the last axis (seq_len_k) so that the scores\n",
    "  # add up to 1.\n",
    "  attention_weights = tf.nn.softmax(scaled_attention_logits, axis=-1)  # (..., seq_len_q, seq_len_k)\n",
    "\n",
    "  output = tf.matmul(attention_weights, v)  # (..., seq_len_q, depth_v)\n",
    "\n",
    "  return output, attention_weights"
   ]
  },
  {
   "cell_type": "markdown",
   "metadata": {
    "id": "FiqETnhCkoXh"
   },
   "source": [
    "As the softmax normalization is done on K, its values decide the amount of importance given to Q.\n",
    "\n",
    "The output represents the multiplication of the attention weights and the V (value) vector. This ensures that the tokens you want to focus on are kept as-is and the irrelevant tokens are flushed out."
   ]
  },
  {
   "cell_type": "code",
   "execution_count": 109,
   "metadata": {
    "execution": {
     "iopub.execute_input": "2022-02-04T13:03:32.477020Z",
     "iopub.status.busy": "2022-02-04T13:03:32.476421Z",
     "iopub.status.idle": "2022-02-04T13:03:32.478404Z",
     "shell.execute_reply": "2022-02-04T13:03:32.477990Z"
    },
    "id": "n90YjClyInFy"
   },
   "outputs": [],
   "source": [
    "def print_out(q, k, v):\n",
    "  temp_out, temp_attn = scaled_dot_product_attention(\n",
    "      q, k, v, None)\n",
    "  print('Attention weights are:')\n",
    "  print(temp_attn)\n",
    "  print('Output is:')\n",
    "  print(temp_out)"
   ]
  },
  {
   "cell_type": "code",
   "execution_count": 127,
   "metadata": {
    "execution": {
     "iopub.execute_input": "2022-02-04T13:03:32.484455Z",
     "iopub.status.busy": "2022-02-04T13:03:32.483881Z",
     "iopub.status.idle": "2022-02-04T13:03:32.876841Z",
     "shell.execute_reply": "2022-02-04T13:03:32.877208Z"
    },
    "id": "yAzUAf2DPlNt"
   },
   "outputs": [
    {
     "name": "stdout",
     "output_type": "stream",
     "text": [
      "tf.Tensor([4 3], shape=(2,), dtype=int32)\n",
      "Attention weights are:\n",
      "tf.Tensor([[0. 1. 0. 0.]], shape=(1, 4), dtype=float32)\n",
      "Output is:\n",
      "tf.Tensor([[10.  0.]], shape=(1, 2), dtype=float32)\n"
     ]
    }
   ],
   "source": [
    "np.set_printoptions(suppress=True)\n",
    "\n",
    "temp_k = tf.constant([[10, 0, 0],\n",
    "                      [0, 10, 0],\n",
    "                      [0, 0, 10],\n",
    "                      [0, 0, 10]], dtype=tf.float32)  # (4, 3)\n",
    "\n",
    "temp_v = tf.constant([[1, 0],\n",
    "                      [10, 0],\n",
    "                      [100, 5],\n",
    "                      [1000, 6]], dtype=tf.float32)  # (4, 2)"
   ]
  },
  {
   "cell_type": "code",
   "execution_count": 29,
   "metadata": {
    "execution": {
     "iopub.execute_input": "2022-02-04T13:03:32.899774Z",
     "iopub.status.busy": "2022-02-04T13:03:32.899202Z",
     "iopub.status.idle": "2022-02-04T13:03:32.904774Z",
     "shell.execute_reply": "2022-02-04T13:03:32.904346Z"
    },
    "id": "6dlU8Tm-hYrF"
   },
   "outputs": [
    {
     "name": "stdout",
     "output_type": "stream",
     "text": [
      "Attention weights are:\n",
      "tf.Tensor(\n",
      "[[0.  0.  0.5 0.5]\n",
      " [0.  1.  0.  0. ]\n",
      " [0.5 0.5 0.  0. ]], shape=(3, 4), dtype=float32)\n",
      "Output is:\n",
      "tf.Tensor(\n",
      "[[550.    5.5]\n",
      " [ 10.    0. ]\n",
      " [  5.5   0. ]], shape=(3, 2), dtype=float32)\n"
     ]
    }
   ],
   "source": [
    "#the first query shows a repeated key, ie 50% belonging to value 3 and 50% to value 4\n",
    "#the second query matches key 2\n",
    "# the third query is between key 1 and key 2\n",
    "temp_q = tf.constant([[0, 0, 10],\n",
    "                      [0, 10, 0],\n",
    "                      [10, 10, 0]], dtype=tf.float32)  # (3, 3)\n",
    "print_out(temp_q, temp_k, temp_v)"
   ]
  },
  {
   "cell_type": "markdown",
   "metadata": {
    "id": "kmzGPEy64qmA"
   },
   "source": [
    "## Multi-head attention"
   ]
  },
  {
   "cell_type": "markdown",
   "metadata": {
    "id": "fz5BMC8Kaoqo"
   },
   "source": [
    "<img src=\"https://www.tensorflow.org/images/tutorials/transformer/multi_head_attention.png\" width=\"500\" alt=\"multi-head attention\">\n",
    "\n",
    "\n",
    "Multi-head attention consists of four parts:\n",
    "*    Linear layers.\n",
    "*    Scaled dot-product attention.\n",
    "*    Final linear layer."
   ]
  },
  {
   "cell_type": "markdown",
   "metadata": {
    "id": "JPmbr6F1C-v_"
   },
   "source": [
    "Each multi-head attention block gets three inputs; Q (query), K (key), V (value). These are put through linear (Dense) layers before the multi-head attention function.\n",
    "The attention heads are broadcast to be calculated in parallel.\n",
    "\n",
    "\n",
    "ENCODER SELF ATTENTION\n",
    "\n",
    "DECODER USES ATTENTION FROM ENCODER\n"
   ]
  },
  {
   "cell_type": "code",
   "execution_count": 30,
   "metadata": {
    "execution": {
     "iopub.execute_input": "2022-02-04T13:03:32.913892Z",
     "iopub.status.busy": "2022-02-04T13:03:32.912834Z",
     "iopub.status.idle": "2022-02-04T13:03:32.916539Z",
     "shell.execute_reply": "2022-02-04T13:03:32.916084Z"
    },
    "id": "BSV3PPKsYecw"
   },
   "outputs": [],
   "source": [
    "class MultiHeadAttention(tf.keras.layers.Layer):\n",
    "  def __init__(self, d_model, num_heads):\n",
    "    super(MultiHeadAttention, self).__init__()\n",
    "    self.num_heads = num_heads\n",
    "    self.d_model = d_model\n",
    "\n",
    "    assert d_model % self.num_heads == 0\n",
    "\n",
    "    self.depth = d_model // self.num_heads\n",
    "\n",
    "    self.wq = tf.keras.layers.Dense(d_model)\n",
    "    self.wk = tf.keras.layers.Dense(d_model)\n",
    "    self.wv = tf.keras.layers.Dense(d_model)\n",
    "\n",
    "    self.dense = tf.keras.layers.Dense(d_model)\n",
    "\n",
    "  def split_heads(self, x, batch_size):\n",
    "    x = tf.reshape(x, (batch_size, -1, self.num_heads, self.depth))\n",
    "    return tf.transpose(x, perm=[0, 2, 1, 3])\n",
    "\n",
    "  def call(self, v, k, q, mask):\n",
    "    batch_size = tf.shape(q)[0]\n",
    "\n",
    "    q = self.wq(q)\n",
    "    k = self.wk(k)\n",
    "    v = self.wv(v)\n",
    "\n",
    "    q = self.split_heads(q, batch_size)  # (batch_size, num_heads, seq_len_q, depth)\n",
    "    k = self.split_heads(k, batch_size)  # (batch_size, num_heads, seq_len_k, depth)\n",
    "    v = self.split_heads(v, batch_size)  # (batch_size, num_heads, seq_len_v, depth)\n",
    "\n",
    "    scaled_attention, attention_weights = scaled_dot_product_attention(\n",
    "        q, k, v, mask)\n",
    "\n",
    "    scaled_attention = tf.transpose(scaled_attention, perm=[0, 2, 1, 3])  # (batch_size, seq_len_q, num_heads, depth)\n",
    "\n",
    "    concat_attention = tf.reshape(scaled_attention,\n",
    "                                  (batch_size, -1, self.d_model))  # (batch_size, seq_len_q, d_model)\n",
    "\n",
    "    output = self.dense(concat_attention)  # (batch_size, seq_len_q, d_model)\n",
    "\n",
    "    return output, attention_weights"
   ]
  },
  {
   "cell_type": "markdown",
   "metadata": {
    "id": "RdDqGayx67vv"
   },
   "source": [
    "## Feed forward network\n",
    "\n",
    "Point wise feed forward network consists of two fully-connected layers with a ReLU activation in between.\n"
   ]
  },
  {
   "cell_type": "code",
   "execution_count": 32,
   "metadata": {
    "execution": {
     "iopub.execute_input": "2022-02-04T13:03:32.952715Z",
     "iopub.status.busy": "2022-02-04T13:03:32.952105Z",
     "iopub.status.idle": "2022-02-04T13:03:32.954756Z",
     "shell.execute_reply": "2022-02-04T13:03:32.954212Z"
    },
    "id": "ET7xLt0yCT6Z"
   },
   "outputs": [],
   "source": [
    "def point_wise_feed_forward_network(d_model, dff):\n",
    "  return tf.keras.Sequential([\n",
    "      tf.keras.layers.Dense(dff, activation='relu'),  # (batch_size, seq_len, dff)\n",
    "      tf.keras.layers.Dense(d_model)  # (batch_size, seq_len, d_model)\n",
    "  ])"
   ]
  },
  {
   "cell_type": "markdown",
   "metadata": {
    "id": "7e7hKcxn6-zd"
   },
   "source": [
    "## Encoder and decoder"
   ]
  },
  {
   "cell_type": "markdown",
   "metadata": {
    "id": "yScbC0MUH8dS"
   },
   "source": [
    "<img src=\"https://www.tensorflow.org/images/tutorials/transformer/transformer.png\" width=\"600\" alt=\"transformer\">"
   ]
  },
  {
   "cell_type": "markdown",
   "metadata": {
    "id": "MfYJG-Kvgwy2"
   },
   "source": [
    "The transformer model follows the same general pattern as a standard [sequence to sequence with attention model](https://www.tensorflow.org/text/tutorials/nmt_with_attention.ipynb). \n",
    "\n",
    "* The input sentence is passed through N encoder layers, generating an output for each token in the sequence.\n",
    "* The decoder uses the encoder's output and its own input (self-attention) to predict the next word."
   ]
  },
  {
   "cell_type": "markdown",
   "metadata": {
    "id": "QFv-FNYUmvpn"
   },
   "source": [
    "### Encoder layer\n",
    "\n",
    "Each encoder layer consists of sublayers:\n",
    "\n",
    "1.   Multi-head attention (with padding mask) \n",
    "2.    Point wise feed forward networks.\n",
    "\n",
    "Each of these sublayers has a residual connection around it followed by a layer normalization. Residual connections help in avoiding the vanishing gradient problem in deep networks.\n"
   ]
  },
  {
   "cell_type": "code",
   "execution_count": 34,
   "metadata": {
    "execution": {
     "iopub.execute_input": "2022-02-04T13:03:32.996085Z",
     "iopub.status.busy": "2022-02-04T13:03:32.995501Z",
     "iopub.status.idle": "2022-02-04T13:03:32.997390Z",
     "shell.execute_reply": "2022-02-04T13:03:32.997754Z"
    },
    "id": "ncyS-Ms3i2x_"
   },
   "outputs": [],
   "source": [
    "class EncoderLayer(tf.keras.layers.Layer):\n",
    "  def __init__(self, d_model, num_heads, dff, rate=0.1):\n",
    "    super(EncoderLayer, self).__init__()\n",
    "\n",
    "    self.mha = MultiHeadAttention(d_model, num_heads)\n",
    "    self.ffn = point_wise_feed_forward_network(d_model, dff)\n",
    "\n",
    "    self.layernorm1 = tf.keras.layers.LayerNormalization(epsilon=1e-6)\n",
    "    self.layernorm2 = tf.keras.layers.LayerNormalization(epsilon=1e-6)\n",
    "\n",
    "    self.dropout1 = tf.keras.layers.Dropout(rate)\n",
    "    self.dropout2 = tf.keras.layers.Dropout(rate)\n",
    "\n",
    "  def call(self, x, training, mask):\n",
    "\n",
    "    attn_output, _ = self.mha(x, x, x, mask)  # (batch_size, input_seq_len, d_model)\n",
    "    attn_output = self.dropout1(attn_output, training=training)\n",
    "    out1 = self.layernorm1(x + attn_output)  # (batch_size, input_seq_len, d_model)\n",
    "\n",
    "    ffn_output = self.ffn(out1)  # (batch_size, input_seq_len, d_model)\n",
    "    ffn_output = self.dropout2(ffn_output, training=training)\n",
    "    out2 = self.layernorm2(out1 + ffn_output)  # (batch_size, input_seq_len, d_model)\n",
    "\n",
    "    return out2"
   ]
  },
  {
   "cell_type": "markdown",
   "metadata": {
    "id": "6LO_48Owmx_o"
   },
   "source": [
    "### Decoder layer\n",
    "\n",
    "Each decoder layer consists of sublayers:\n",
    "\n",
    "1.   Masked multi-head attention (with look ahead mask and padding mask)\n",
    "2.   Multi-head attention (with padding mask). V (value) and K (key) receive the *encoder output* as inputs. Q (query) receives the *output from the masked multi-head attention sublayer.*\n",
    "3.   Point wise feed forward networks\n",
    "\n",
    "Each of these sublayers has a residual connection around it followed by a layer normalization. The output of each sublayer is `LayerNorm(x + Sublayer(x))`. The normalization is done on the `d_model` (last) axis.\n",
    "\n",
    "There are N decoder layers in the transformer.\n",
    "\n",
    "As Q receives the output from decoder's first attention block, and K receives the encoder output, the attention weights represent the importance given to the decoder's input based on the encoder's output. In other words, the decoder predicts the next token by looking at the encoder output and self-attending to its own output. See the demonstration above in the scaled dot product attention section."
   ]
  },
  {
   "cell_type": "code",
   "execution_count": 36,
   "metadata": {
    "execution": {
     "iopub.execute_input": "2022-02-04T13:03:33.062481Z",
     "iopub.status.busy": "2022-02-04T13:03:33.061854Z",
     "iopub.status.idle": "2022-02-04T13:03:33.068515Z",
     "shell.execute_reply": "2022-02-04T13:03:33.068889Z"
    },
    "id": "9SoX0-vd1hue"
   },
   "outputs": [],
   "source": [
    "class DecoderLayer(tf.keras.layers.Layer):\n",
    "  def __init__(self, d_model, num_heads, dff, rate=0.1):\n",
    "    super(DecoderLayer, self).__init__()\n",
    "\n",
    "    self.mha1 = MultiHeadAttention(d_model, num_heads)\n",
    "    self.mha2 = MultiHeadAttention(d_model, num_heads)\n",
    "\n",
    "    self.ffn = point_wise_feed_forward_network(d_model, dff)\n",
    "\n",
    "    self.layernorm1 = tf.keras.layers.LayerNormalization(epsilon=1e-6)\n",
    "    self.layernorm2 = tf.keras.layers.LayerNormalization(epsilon=1e-6)\n",
    "    self.layernorm3 = tf.keras.layers.LayerNormalization(epsilon=1e-6)\n",
    "\n",
    "    self.dropout1 = tf.keras.layers.Dropout(rate)\n",
    "    self.dropout2 = tf.keras.layers.Dropout(rate)\n",
    "    self.dropout3 = tf.keras.layers.Dropout(rate)\n",
    "\n",
    "  def call(self, x, enc_output, training,\n",
    "           look_ahead_mask, padding_mask):\n",
    "    # enc_output.shape == (batch_size, input_seq_len, d_model)\n",
    "\n",
    "    attn1, attn_weights_block1 = self.mha1(x, x, x, look_ahead_mask)  # (batch_size, target_seq_len, d_model)\n",
    "    attn1 = self.dropout1(attn1, training=training)\n",
    "    out1 = self.layernorm1(attn1 + x)\n",
    "\n",
    "    attn2, attn_weights_block2 = self.mha2(\n",
    "        enc_output, enc_output, out1, padding_mask)  # (batch_size, target_seq_len, d_model)\n",
    "    attn2 = self.dropout2(attn2, training=training)\n",
    "    out2 = self.layernorm2(attn2 + out1)  # (batch_size, target_seq_len, d_model)\n",
    "\n",
    "    ffn_output = self.ffn(out2)  # (batch_size, target_seq_len, d_model)\n",
    "    ffn_output = self.dropout3(ffn_output, training=training)\n",
    "    out3 = self.layernorm3(ffn_output + out2)  # (batch_size, target_seq_len, d_model)\n",
    "\n",
    "    return out3, attn_weights_block1, attn_weights_block2"
   ]
  },
  {
   "cell_type": "markdown",
   "metadata": {
    "id": "SE1H51Ajm0q1"
   },
   "source": [
    "### Encoder\n",
    "\n",
    "The `Encoder` consists of:\n",
    "1.   Input Embedding\n",
    "2.   Positional Encoding\n",
    "3.   N encoder layers\n",
    "\n",
    "The input is put through an embedding which is summed with the positional encoding. The output of this summation is the input to the encoder layers. The output of the encoder is the input to the decoder."
   ]
  },
  {
   "cell_type": "code",
   "execution_count": 38,
   "metadata": {
    "execution": {
     "iopub.execute_input": "2022-02-04T13:03:33.151119Z",
     "iopub.status.busy": "2022-02-04T13:03:33.150464Z",
     "iopub.status.idle": "2022-02-04T13:03:33.152471Z",
     "shell.execute_reply": "2022-02-04T13:03:33.152846Z"
    },
    "id": "jpEox7gJ8FCI"
   },
   "outputs": [],
   "source": [
    "class Encoder(tf.keras.layers.Layer):\n",
    "  def __init__(self, num_layers, d_model, num_heads, dff, input_vocab_size,\n",
    "               maximum_position_encoding, rate=0.1):\n",
    "    super(Encoder, self).__init__()\n",
    "\n",
    "    self.d_model = d_model\n",
    "    self.num_layers = num_layers\n",
    "\n",
    "    self.embedding = tf.keras.layers.Embedding(input_vocab_size, d_model)\n",
    "    self.pos_encoding = positional_encoding(maximum_position_encoding,\n",
    "                                            self.d_model)\n",
    "\n",
    "    self.enc_layers = [EncoderLayer(d_model, num_heads, dff, rate)\n",
    "                       for _ in range(num_layers)]\n",
    "\n",
    "    self.dropout = tf.keras.layers.Dropout(rate)\n",
    "\n",
    "  def call(self, x, training, mask):\n",
    "\n",
    "    seq_len = tf.shape(x)[1]\n",
    "\n",
    "    # adding embedding and position encoding.\n",
    "    x = self.embedding(x)  # (batch_size, input_seq_len, d_model)\n",
    "    x *= tf.math.sqrt(tf.cast(self.d_model, tf.float32))\n",
    "    x += self.pos_encoding[:, :seq_len, :]\n",
    "\n",
    "    x = self.dropout(x, training=training)\n",
    "\n",
    "    for i in range(self.num_layers):\n",
    "      x = self.enc_layers[i](x, training, mask)\n",
    "\n",
    "    return x  # (batch_size, input_seq_len, d_model)"
   ]
  },
  {
   "cell_type": "markdown",
   "metadata": {
    "id": "p-uO6ls8m2O5"
   },
   "source": [
    "### Decoder"
   ]
  },
  {
   "cell_type": "markdown",
   "metadata": {
    "id": "ZtT7PKzrXkNr"
   },
   "source": [
    " The `Decoder` consists of:\n",
    "1.   Output Embedding\n",
    "2.   Positional Encoding\n",
    "3.   N decoder layers\n",
    "\n",
    "The target is put through an embedding which is summed with the positional encoding. The output of this summation is the input to the decoder layers. The output of the decoder is the input to the final linear layer."
   ]
  },
  {
   "cell_type": "code",
   "execution_count": 40,
   "metadata": {
    "execution": {
     "iopub.execute_input": "2022-02-04T13:03:33.455779Z",
     "iopub.status.busy": "2022-02-04T13:03:33.451891Z",
     "iopub.status.idle": "2022-02-04T13:03:33.457668Z",
     "shell.execute_reply": "2022-02-04T13:03:33.458028Z"
    },
    "id": "d5_d5-PLQXwY"
   },
   "outputs": [],
   "source": [
    "class Decoder(tf.keras.layers.Layer):\n",
    "  def __init__(self, num_layers, d_model, num_heads, dff, target_vocab_size,\n",
    "               maximum_position_encoding, rate=0.1):\n",
    "    super(Decoder, self).__init__()\n",
    "\n",
    "    self.d_model = d_model\n",
    "    self.num_layers = num_layers\n",
    "\n",
    "    self.embedding = tf.keras.layers.Embedding(target_vocab_size, d_model)\n",
    "    self.pos_encoding = positional_encoding(maximum_position_encoding, d_model)\n",
    "\n",
    "    self.dec_layers = [DecoderLayer(d_model, num_heads, dff, rate)\n",
    "                       for _ in range(num_layers)]\n",
    "    self.dropout = tf.keras.layers.Dropout(rate)\n",
    "\n",
    "  def call(self, x, enc_output, training,\n",
    "           look_ahead_mask, padding_mask):\n",
    "\n",
    "    seq_len = tf.shape(x)[1]\n",
    "    attention_weights = {}\n",
    "\n",
    "    x = self.embedding(x)  # (batch_size, target_seq_len, d_model)\n",
    "    x *= tf.math.sqrt(tf.cast(self.d_model, tf.float32))\n",
    "    x += self.pos_encoding[:, :seq_len, :]\n",
    "\n",
    "    x = self.dropout(x, training=training)\n",
    "\n",
    "    for i in range(self.num_layers):\n",
    "      x, block1, block2 = self.dec_layers[i](x, enc_output, training,\n",
    "                                             look_ahead_mask, padding_mask)\n",
    "\n",
    "      attention_weights[f'decoder_layer{i+1}_block1'] = block1\n",
    "      attention_weights[f'decoder_layer{i+1}_block2'] = block2\n",
    "\n",
    "    # x.shape == (batch_size, target_seq_len, d_model)\n",
    "    return x, attention_weights"
   ]
  },
  {
   "cell_type": "markdown",
   "metadata": {
    "id": "y54xnJnuYgJ7"
   },
   "source": [
    "## Create the Transformer"
   ]
  },
  {
   "cell_type": "markdown",
   "metadata": {
    "id": "uERO1y54cOKq"
   },
   "source": [
    "Transformer consists of the encoder, decoder and a final linear layer. The output of the decoder is the input to the linear layer and its output is returned."
   ]
  },
  {
   "cell_type": "code",
   "execution_count": 42,
   "metadata": {
    "execution": {
     "iopub.execute_input": "2022-02-04T13:03:33.840611Z",
     "iopub.status.busy": "2022-02-04T13:03:33.840023Z",
     "iopub.status.idle": "2022-02-04T13:03:33.841726Z",
     "shell.execute_reply": "2022-02-04T13:03:33.842090Z"
    },
    "id": "PED3bIpOYkBu"
   },
   "outputs": [],
   "source": [
    "class Transformer(tf.keras.Model):\n",
    "  def __init__(self, num_layers, d_model, num_heads, dff, input_vocab_size,\n",
    "               target_vocab_size, pe_input, pe_target, rate=0.1):\n",
    "    super().__init__()\n",
    "    self.encoder = Encoder(num_layers, d_model, num_heads, dff,\n",
    "                             input_vocab_size, pe_input, rate)\n",
    "\n",
    "    self.decoder = Decoder(num_layers, d_model, num_heads, dff,\n",
    "                           target_vocab_size, pe_target, rate)\n",
    "\n",
    "    self.final_layer = tf.keras.layers.Dense(target_vocab_size)\n",
    "\n",
    "  def call(self, inputs, training):\n",
    "    inp, tar = inputs\n",
    "\n",
    "    enc_padding_mask, look_ahead_mask, dec_padding_mask = self.create_masks(inp, tar)\n",
    "\n",
    "    enc_output = self.encoder(inp, training, enc_padding_mask)  # (batch_size, inp_seq_len, d_model)\n",
    "\n",
    "    # dec_output.shape == (batch_size, tar_seq_len, d_model)\n",
    "    dec_output, attention_weights = self.decoder(\n",
    "        tar, enc_output, training, look_ahead_mask, dec_padding_mask)\n",
    "\n",
    "    final_output = self.final_layer(dec_output)  # (batch_size, tar_seq_len, target_vocab_size)\n",
    "\n",
    "    return final_output, attention_weights\n",
    "\n",
    "  def create_masks(self, inp, tar):\n",
    "    # Encoder padding mask\n",
    "    enc_padding_mask = create_padding_mask(inp)\n",
    "\n",
    "    # Used in the 2nd attention block in the decoder.\n",
    "    # This padding mask is used to mask the encoder outputs.\n",
    "    dec_padding_mask = create_padding_mask(inp)\n",
    "\n",
    "    # Used in the 1st attention block in the decoder.\n",
    "    # It is used to pad and mask future tokens in the input received by\n",
    "    # the decoder.\n",
    "    look_ahead_mask = create_look_ahead_mask(tf.shape(tar)[1])\n",
    "    dec_target_padding_mask = create_padding_mask(tar)\n",
    "    look_ahead_mask = tf.maximum(dec_target_padding_mask, look_ahead_mask)\n",
    "\n",
    "    return enc_padding_mask, look_ahead_mask, dec_padding_mask"
   ]
  },
  {
   "cell_type": "markdown",
   "metadata": {
    "id": "wsINyf1VEQLC"
   },
   "source": [
    "## Set hyperparameters"
   ]
  },
  {
   "cell_type": "markdown",
   "metadata": {
    "id": "zVjWCxFNcgbt"
   },
   "source": [
    "To keep this example small and relatively fast, the values for the hyperparameters have been reduced:\n",
    "\n",
    "The base model described in the [paper](https://arxiv.org/abs/1706.03762) used: `num_layers=6, d_model=512, dff=2048`."
   ]
  },
  {
   "cell_type": "code",
   "execution_count": 44,
   "metadata": {
    "execution": {
     "iopub.execute_input": "2022-02-04T13:03:34.373623Z",
     "iopub.status.busy": "2022-02-04T13:03:34.373019Z",
     "iopub.status.idle": "2022-02-04T13:03:34.374756Z",
     "shell.execute_reply": "2022-02-04T13:03:34.375142Z"
    },
    "id": "lnJn5SLA2ahP"
   },
   "outputs": [],
   "source": [
    "num_layers = 4\n",
    "d_model = 128\n",
    "dff = 512\n",
    "num_heads = 8\n",
    "dropout_rate = 0.1"
   ]
  },
  {
   "cell_type": "markdown",
   "metadata": {
    "id": "xYEGhEOtzn5W"
   },
   "source": [
    "## Optimizer"
   ]
  },
  {
   "cell_type": "markdown",
   "metadata": {
    "id": "GOmWW--yP3zx"
   },
   "source": [
    "Use the Adam optimizer with a custom learning rate scheduler according to the formula in the [paper](https://arxiv.org/abs/1706.03762).\n",
    "\n",
    "$$\\Large{lrate = d_{model}^{-0.5} * \\min(step{\\_}num^{-0.5}, step{\\_}num \\cdot warmup{\\_}steps^{-1.5})}$$\n"
   ]
  },
  {
   "cell_type": "code",
   "execution_count": 45,
   "metadata": {
    "execution": {
     "iopub.execute_input": "2022-02-04T13:03:34.381030Z",
     "iopub.status.busy": "2022-02-04T13:03:34.380456Z",
     "iopub.status.idle": "2022-02-04T13:03:34.382083Z",
     "shell.execute_reply": "2022-02-04T13:03:34.382411Z"
    },
    "id": "iYQdOO1axwEI"
   },
   "outputs": [],
   "source": [
    "class CustomSchedule(tf.keras.optimizers.schedules.LearningRateSchedule):\n",
    "  def __init__(self, d_model, warmup_steps=4000):\n",
    "    super(CustomSchedule, self).__init__()\n",
    "\n",
    "    self.d_model = d_model\n",
    "    self.d_model = tf.cast(self.d_model, tf.float32)\n",
    "\n",
    "    self.warmup_steps = warmup_steps\n",
    "\n",
    "  def __call__(self, step):\n",
    "    arg1 = tf.math.rsqrt(step)\n",
    "    arg2 = step * (self.warmup_steps ** -1.5)\n",
    "\n",
    "    return tf.math.rsqrt(self.d_model) * tf.math.minimum(arg1, arg2)"
   ]
  },
  {
   "cell_type": "code",
   "execution_count": 46,
   "metadata": {
    "execution": {
     "iopub.execute_input": "2022-02-04T13:03:34.386380Z",
     "iopub.status.busy": "2022-02-04T13:03:34.385811Z",
     "iopub.status.idle": "2022-02-04T13:03:34.388016Z",
     "shell.execute_reply": "2022-02-04T13:03:34.388375Z"
    },
    "id": "7r4scdulztRx"
   },
   "outputs": [],
   "source": [
    "learning_rate = CustomSchedule(d_model)\n",
    "\n",
    "optimizer = tf.keras.optimizers.Adam(learning_rate, beta_1=0.9, beta_2=0.98,\n",
    "                                     epsilon=1e-9)"
   ]
  },
  {
   "cell_type": "code",
   "execution_count": 47,
   "metadata": {
    "execution": {
     "iopub.execute_input": "2022-02-04T13:03:34.392811Z",
     "iopub.status.busy": "2022-02-04T13:03:34.392206Z",
     "iopub.status.idle": "2022-02-04T13:03:34.535765Z",
     "shell.execute_reply": "2022-02-04T13:03:34.535233Z"
    },
    "id": "f33ZCgvHpPdG"
   },
   "outputs": [
    {
     "data": {
      "text/plain": "Text(0.5, 0, 'Train Step')"
     },
     "execution_count": 47,
     "metadata": {},
     "output_type": "execute_result"
    },
    {
     "data": {
      "text/plain": "<Figure size 432x288 with 1 Axes>",
      "image/png": "[encoded data removed]"
     },
     "metadata": {
      "needs_background": "light"
     },
     "output_type": "display_data"
    }
   ],
   "source": [
    "temp_learning_rate_schedule = CustomSchedule(d_model)\n",
    "\n",
    "plt.plot(temp_learning_rate_schedule(tf.range(40000, dtype=tf.float32)))\n",
    "plt.ylabel(\"Learning Rate\")\n",
    "plt.xlabel(\"Train Step\")"
   ]
  },
  {
   "cell_type": "markdown",
   "metadata": {
    "id": "YgkDE7hzo8r5"
   },
   "source": [
    "## Loss and metrics"
   ]
  },
  {
   "cell_type": "markdown",
   "metadata": {
    "id": "oxGJtoDuYIHL"
   },
   "source": [
    "Since the target sequences are padded, it is important to apply a padding mask when calculating the loss."
   ]
  },
  {
   "cell_type": "code",
   "execution_count": 48,
   "metadata": {
    "execution": {
     "iopub.execute_input": "2022-02-04T13:03:34.540850Z",
     "iopub.status.busy": "2022-02-04T13:03:34.540214Z",
     "iopub.status.idle": "2022-02-04T13:03:34.543282Z",
     "shell.execute_reply": "2022-02-04T13:03:34.542453Z"
    },
    "id": "MlhsJMm0TW_B"
   },
   "outputs": [],
   "source": [
    "loss_object = tf.keras.losses.SparseCategoricalCrossentropy(\n",
    "    from_logits=True, reduction='none')"
   ]
  },
  {
   "cell_type": "code",
   "execution_count": 49,
   "metadata": {
    "execution": {
     "iopub.execute_input": "2022-02-04T13:03:34.549925Z",
     "iopub.status.busy": "2022-02-04T13:03:34.549300Z",
     "iopub.status.idle": "2022-02-04T13:03:34.551028Z",
     "shell.execute_reply": "2022-02-04T13:03:34.551378Z"
    },
    "id": "67oqVHiT0Eiu"
   },
   "outputs": [],
   "source": [
    "def loss_function(real, pred):\n",
    "  mask = tf.math.logical_not(tf.math.equal(real, 0))\n",
    "  loss_ = loss_object(real, pred)\n",
    "\n",
    "  mask = tf.cast(mask, dtype=loss_.dtype)\n",
    "  loss_ *= mask\n",
    "\n",
    "  return tf.reduce_sum(loss_)/tf.reduce_sum(mask)\n",
    "\n",
    "\n",
    "def accuracy_function(real, pred):\n",
    "  accuracies = tf.equal(real, tf.argmax(pred, axis=2))\n",
    "\n",
    "  mask = tf.math.logical_not(tf.math.equal(real, 0))\n",
    "  accuracies = tf.math.logical_and(mask, accuracies)\n",
    "\n",
    "  accuracies = tf.cast(accuracies, dtype=tf.float32)\n",
    "  mask = tf.cast(mask, dtype=tf.float32)\n",
    "  return tf.reduce_sum(accuracies)/tf.reduce_sum(mask)"
   ]
  },
  {
   "cell_type": "code",
   "execution_count": 50,
   "metadata": {
    "execution": {
     "iopub.execute_input": "2022-02-04T13:03:34.558665Z",
     "iopub.status.busy": "2022-02-04T13:03:34.557709Z",
     "iopub.status.idle": "2022-02-04T13:03:34.564341Z",
     "shell.execute_reply": "2022-02-04T13:03:34.563885Z"
    },
    "id": "phlyxMnm-Tpx"
   },
   "outputs": [],
   "source": [
    "train_loss = tf.keras.metrics.Mean(name='train_loss')\n",
    "train_accuracy = tf.keras.metrics.Mean(name='train_accuracy')"
   ]
  },
  {
   "cell_type": "markdown",
   "metadata": {
    "id": "aeHumfr7zmMa"
   },
   "source": [
    "## Training and checkpointing"
   ]
  },
  {
   "cell_type": "code",
   "execution_count": 51,
   "metadata": {
    "execution": {
     "iopub.execute_input": "2022-02-04T13:03:34.571267Z",
     "iopub.status.busy": "2022-02-04T13:03:34.570349Z",
     "iopub.status.idle": "2022-02-04T13:03:34.682886Z",
     "shell.execute_reply": "2022-02-04T13:03:34.683298Z"
    },
    "id": "UiysUa--4tOU"
   },
   "outputs": [],
   "source": [
    "transformer = Transformer(\n",
    "    num_layers=num_layers,\n",
    "    d_model=d_model,\n",
    "    num_heads=num_heads,\n",
    "    dff=dff,\n",
    "    input_vocab_size=tokenizers.pt.get_vocab_size().numpy(),\n",
    "    target_vocab_size=tokenizers.en.get_vocab_size().numpy(),\n",
    "    pe_input=1000,\n",
    "    pe_target=1000,\n",
    "    rate=dropout_rate)"
   ]
  },
  {
   "cell_type": "markdown",
   "metadata": {
    "id": "Fzuf06YZp66w"
   },
   "source": [
    "Create the checkpoint path and the checkpoint manager. This will be used to save checkpoints every `n` epochs."
   ]
  },
  {
   "cell_type": "code",
   "execution_count": 52,
   "metadata": {
    "execution": {
     "iopub.execute_input": "2022-02-04T13:03:34.689283Z",
     "iopub.status.busy": "2022-02-04T13:03:34.688664Z",
     "iopub.status.idle": "2022-02-04T13:03:34.690265Z",
     "shell.execute_reply": "2022-02-04T13:03:34.690650Z"
    },
    "id": "hNhuYfllndLZ"
   },
   "outputs": [],
   "source": [
    "checkpoint_path = \"./checkpoints/train\"\n",
    "\n",
    "ckpt = tf.train.Checkpoint(transformer=transformer,\n",
    "                           optimizer=optimizer)\n",
    "\n",
    "ckpt_manager = tf.train.CheckpointManager(ckpt, checkpoint_path, max_to_keep=5)\n",
    "\n",
    "# if a checkpoint exists, restore the latest checkpoint.\n",
    "if ckpt_manager.latest_checkpoint:\n",
    "  ckpt.restore(ckpt_manager.latest_checkpoint)\n",
    "  print('Latest checkpoint restored!!')"
   ]
  },
  {
   "cell_type": "markdown",
   "metadata": {
    "id": "0Di_Yaa1gf9r"
   },
   "source": [
    "The target is divided into tar_inp and tar_real. tar_inp is passed as an input to the decoder. `tar_real` is that same input shifted by 1: At each location in `tar_input`, `tar_real` contains the  next token that should be predicted.\n",
    "\n",
    "For example, `sentence` = \"SOS A lion in the jungle is sleeping EOS\"\n",
    "\n",
    "`tar_inp` =  \"SOS A lion in the jungle is sleeping\"\n",
    "\n",
    "`tar_real` = \"A lion in the jungle is sleeping EOS\"\n",
    "\n",
    "The transformer is an auto-regressive model: it makes predictions one part at a time, and uses its output so far to decide what to do next. \n",
    "\n",
    "During training this example uses teacher-forcing (like in the [text generation tutorial](https://www.tensorflow.org/text/tutorials/text_generation)). Teacher forcing is passing the true output to the next time step regardless of what the model predicts at the current time step.\n",
    "\n",
    "As the transformer predicts each token, *self-attention* allows it to look at the previous tokens in the input sequence to better predict the next token.\n",
    "\n",
    "To prevent the model from peeking at the expected output the model uses a look-ahead mask."
   ]
  },
  {
   "cell_type": "code",
   "execution_count": 53,
   "metadata": {
    "execution": {
     "iopub.execute_input": "2022-02-04T13:03:34.694571Z",
     "iopub.status.busy": "2022-02-04T13:03:34.693977Z",
     "iopub.status.idle": "2022-02-04T13:03:34.696061Z",
     "shell.execute_reply": "2022-02-04T13:03:34.695647Z"
    },
    "id": "LKpoA6q1sJFj"
   },
   "outputs": [],
   "source": [
    "EPOCHS = 20"
   ]
  },
  {
   "cell_type": "code",
   "execution_count": 54,
   "metadata": {
    "execution": {
     "iopub.execute_input": "2022-02-04T13:03:34.702859Z",
     "iopub.status.busy": "2022-02-04T13:03:34.702179Z",
     "iopub.status.idle": "2022-02-04T13:03:34.704164Z",
     "shell.execute_reply": "2022-02-04T13:03:34.703748Z"
    },
    "id": "iJwmp9OE29oj"
   },
   "outputs": [],
   "source": [
    "# The @tf.function trace-compiles train_step into a TF graph for faster\n",
    "# execution. The function specializes to the precise shape of the argument\n",
    "# tensors. To avoid re-tracing due to the variable sequence lengths or variable\n",
    "# batch sizes (the last batch is smaller), use input_signature to specify\n",
    "# more generic shapes.\n",
    "\n",
    "train_step_signature = [\n",
    "    tf.TensorSpec(shape=(None, None), dtype=tf.int64),\n",
    "    tf.TensorSpec(shape=(None, None), dtype=tf.int64),\n",
    "]\n",
    "\n",
    "\n",
    "@tf.function(input_signature=train_step_signature)\n",
    "def train_step(inp, tar):\n",
    "  tar_inp = tar[:, :-1]\n",
    "  tar_real = tar[:, 1:]\n",
    "\n",
    "  with tf.GradientTape() as tape:\n",
    "    predictions, _ = transformer([inp, tar_inp],\n",
    "                                 training = True)\n",
    "    loss = loss_function(tar_real, predictions)\n",
    "\n",
    "  gradients = tape.gradient(loss, transformer.trainable_variables)\n",
    "  optimizer.apply_gradients(zip(gradients, transformer.trainable_variables))\n",
    "\n",
    "  train_loss(loss)\n",
    "  train_accuracy(accuracy_function(tar_real, predictions))"
   ]
  },
  {
   "cell_type": "markdown",
   "metadata": {
    "id": "qM2PDWGDJ_8V"
   },
   "source": [
    "Portuguese is used as the input language and English is the target language."
   ]
  },
  {
   "cell_type": "code",
   "execution_count": 55,
   "metadata": {
    "execution": {
     "iopub.execute_input": "2022-02-04T13:03:34.711231Z",
     "iopub.status.busy": "2022-02-04T13:03:34.710647Z",
     "iopub.status.idle": "2022-02-04T13:18:58.432885Z",
     "shell.execute_reply": "2022-02-04T13:18:58.432302Z"
    },
    "id": "bbvmaKNiznHZ"
   },
   "outputs": [
    {
     "name": "stdout",
     "output_type": "stream",
     "text": [
      "Epoch 1 Batch 0 Loss 8.8962 Accuracy 0.0000\n",
      "Epoch 1 Batch 50 Loss 8.8304 Accuracy 0.0002\n",
      "Epoch 1 Batch 100 Loss 8.7331 Accuracy 0.0198\n",
      "Epoch 1 Batch 150 Loss 8.6243 Accuracy 0.0328\n",
      "Epoch 1 Batch 200 Loss 8.4919 Accuracy 0.0395\n",
      "Epoch 1 Batch 250 Loss 8.3311 Accuracy 0.0450\n",
      "Epoch 1 Batch 300 Loss 8.1506 Accuracy 0.0512\n",
      "Epoch 1 Batch 350 Loss 7.9574 Accuracy 0.0577\n",
      "Epoch 1 Batch 400 Loss 7.7713 Accuracy 0.0637\n",
      "Epoch 1 Batch 450 Loss 7.6009 Accuracy 0.0702\n",
      "Epoch 1 Batch 500 Loss 7.4540 Accuracy 0.0761\n",
      "Epoch 1 Batch 550 Loss 7.3228 Accuracy 0.0820\n",
      "Epoch 1 Batch 600 Loss 7.2044 Accuracy 0.0881\n",
      "Epoch 1 Batch 650 Loss 7.0940 Accuracy 0.0948\n",
      "Epoch 1 Batch 700 Loss 6.9904 Accuracy 0.1011\n",
      "Epoch 1 Batch 750 Loss 6.8927 Accuracy 0.1073\n",
      "Epoch 1 Batch 800 Loss 6.8047 Accuracy 0.1126\n",
      "Epoch 1 Batch 850 Loss 6.7224 Accuracy 0.1178\n",
      "Epoch 1 Batch 900 Loss 6.6457 Accuracy 0.1225\n",
      "Epoch 1 Batch 950 Loss 6.5739 Accuracy 0.1269\n",
      "Epoch 1 Batch 1000 Loss 6.5042 Accuracy 0.1314\n",
      "Epoch 1 Batch 1050 Loss 6.4398 Accuracy 0.1356\n",
      "Epoch 1 Batch 1100 Loss 6.3814 Accuracy 0.1394\n",
      "Epoch 1 Batch 1150 Loss 6.3239 Accuracy 0.1434\n",
      "Epoch 1 Batch 1200 Loss 6.2722 Accuracy 0.1468\n",
      "Epoch 1 Batch 1250 Loss 6.2234 Accuracy 0.1501\n",
      "Epoch 1 Batch 1300 Loss 6.1771 Accuracy 0.1535\n",
      "Epoch 1 Batch 1350 Loss 6.1321 Accuracy 0.1567\n",
      "Epoch 1 Batch 1400 Loss 6.0894 Accuracy 0.1598\n",
      "Epoch 1 Batch 1450 Loss 6.0496 Accuracy 0.1626\n",
      "Epoch 1 Batch 1500 Loss 6.0110 Accuracy 0.1654\n",
      "Epoch 1 Batch 1550 Loss 5.9750 Accuracy 0.1680\n",
      "Epoch 1 Batch 1600 Loss 5.9385 Accuracy 0.1706\n",
      "Epoch 1 Loss 5.9259 Accuracy 0.1714\n",
      "Time taken for 1 epoch: 204.82 secs\n",
      "\n",
      "Epoch 2 Batch 0 Loss 4.8068 Accuracy 0.2507\n",
      "Epoch 2 Batch 50 Loss 4.7769 Accuracy 0.2543\n",
      "Epoch 2 Batch 100 Loss 4.7765 Accuracy 0.2549\n",
      "Epoch 2 Batch 150 Loss 4.7869 Accuracy 0.2525\n",
      "Epoch 2 Batch 200 Loss 4.7767 Accuracy 0.2547\n",
      "Epoch 2 Batch 250 Loss 4.7577 Accuracy 0.2564\n",
      "Epoch 2 Batch 300 Loss 4.7467 Accuracy 0.2582\n",
      "Epoch 2 Batch 350 Loss 4.7391 Accuracy 0.2585\n",
      "Epoch 2 Batch 400 Loss 4.7328 Accuracy 0.2588\n",
      "Epoch 2 Batch 450 Loss 4.7322 Accuracy 0.2588\n",
      "Epoch 2 Batch 500 Loss 4.7257 Accuracy 0.2596\n",
      "Epoch 2 Batch 550 Loss 4.7149 Accuracy 0.2606\n",
      "Epoch 2 Batch 600 Loss 4.7088 Accuracy 0.2609\n",
      "Epoch 2 Batch 650 Loss 4.7034 Accuracy 0.2614\n",
      "Epoch 2 Batch 700 Loss 4.6995 Accuracy 0.2616\n",
      "Epoch 2 Batch 750 Loss 4.6928 Accuracy 0.2621\n",
      "Epoch 2 Batch 800 Loss 4.6866 Accuracy 0.2625\n",
      "Epoch 2 Batch 850 Loss 4.6783 Accuracy 0.2633\n",
      "Epoch 2 Batch 900 Loss 4.6709 Accuracy 0.2640\n",
      "Epoch 2 Batch 950 Loss 4.6651 Accuracy 0.2646\n",
      "Epoch 2 Batch 1000 Loss 4.6575 Accuracy 0.2655\n",
      "Epoch 2 Batch 1050 Loss 4.6522 Accuracy 0.2660\n",
      "Epoch 2 Batch 1100 Loss 4.6460 Accuracy 0.2666\n",
      "Epoch 2 Batch 1150 Loss 4.6389 Accuracy 0.2672\n",
      "Epoch 2 Batch 1200 Loss 4.6305 Accuracy 0.2680\n",
      "Epoch 2 Batch 1250 Loss 4.6245 Accuracy 0.2687\n",
      "Epoch 2 Batch 1300 Loss 4.6159 Accuracy 0.2696\n",
      "Epoch 2 Batch 1350 Loss 4.6093 Accuracy 0.2703\n",
      "Epoch 2 Batch 1400 Loss 4.6026 Accuracy 0.2711\n",
      "Epoch 2 Batch 1450 Loss 4.5951 Accuracy 0.2719\n",
      "Epoch 2 Batch 1500 Loss 4.5869 Accuracy 0.2729\n",
      "Epoch 2 Batch 1550 Loss 4.5810 Accuracy 0.2734\n",
      "Epoch 2 Batch 1600 Loss 4.5735 Accuracy 0.2742\n",
      "Epoch 2 Loss 4.5706 Accuracy 0.2744\n",
      "Time taken for 1 epoch: 185.69 secs\n",
      "\n",
      "Epoch 3 Batch 0 Loss 4.0831 Accuracy 0.3422\n",
      "Epoch 3 Batch 50 Loss 4.1951 Accuracy 0.3124\n",
      "Epoch 3 Batch 100 Loss 4.2141 Accuracy 0.3109\n",
      "Epoch 3 Batch 150 Loss 4.2342 Accuracy 0.3088\n",
      "Epoch 3 Batch 200 Loss 4.2400 Accuracy 0.3094\n",
      "Epoch 3 Batch 250 Loss 4.2321 Accuracy 0.3106\n",
      "Epoch 3 Batch 300 Loss 4.2228 Accuracy 0.3109\n",
      "Epoch 3 Batch 350 Loss 4.2146 Accuracy 0.3118\n",
      "Epoch 3 Batch 400 Loss 4.2122 Accuracy 0.3126\n",
      "Epoch 3 Batch 450 Loss 4.1979 Accuracy 0.3147\n",
      "Epoch 3 Batch 500 Loss 4.1908 Accuracy 0.3155\n",
      "Epoch 3 Batch 550 Loss 4.1782 Accuracy 0.3175\n",
      "Epoch 3 Batch 600 Loss 4.1714 Accuracy 0.3186\n",
      "Epoch 3 Batch 650 Loss 4.1623 Accuracy 0.3196\n",
      "Epoch 3 Batch 700 Loss 4.1543 Accuracy 0.3208\n",
      "Epoch 3 Batch 750 Loss 4.1473 Accuracy 0.3219\n",
      "Epoch 3 Batch 800 Loss 4.1373 Accuracy 0.3232\n",
      "Epoch 3 Batch 850 Loss 4.1310 Accuracy 0.3241\n",
      "Epoch 3 Batch 900 Loss 4.1228 Accuracy 0.3253\n",
      "Epoch 3 Batch 950 Loss 4.1153 Accuracy 0.3263\n",
      "Epoch 3 Batch 1000 Loss 4.1077 Accuracy 0.3273\n",
      "Epoch 3 Batch 1050 Loss 4.0993 Accuracy 0.3285\n",
      "Epoch 3 Batch 1100 Loss 4.0897 Accuracy 0.3297\n",
      "Epoch 3 Batch 1150 Loss 4.0828 Accuracy 0.3306\n",
      "Epoch 3 Batch 1200 Loss 4.0740 Accuracy 0.3318\n",
      "Epoch 3 Batch 1250 Loss 4.0652 Accuracy 0.3331\n",
      "Epoch 3 Batch 1300 Loss 4.0584 Accuracy 0.3341\n",
      "Epoch 3 Batch 1350 Loss 4.0499 Accuracy 0.3352\n",
      "Epoch 3 Batch 1400 Loss 4.0442 Accuracy 0.3360\n",
      "Epoch 3 Batch 1450 Loss 4.0355 Accuracy 0.3372\n",
      "Epoch 3 Batch 1500 Loss 4.0269 Accuracy 0.3384\n",
      "Epoch 3 Batch 1550 Loss 4.0176 Accuracy 0.3398\n",
      "Epoch 3 Batch 1600 Loss 4.0095 Accuracy 0.3409\n",
      "Epoch 3 Loss 4.0064 Accuracy 0.3413\n",
      "Time taken for 1 epoch: 185.77 secs\n",
      "\n",
      "Epoch 4 Batch 0 Loss 3.4806 Accuracy 0.4069\n",
      "Epoch 4 Batch 50 Loss 3.6314 Accuracy 0.3864\n",
      "Epoch 4 Batch 100 Loss 3.6425 Accuracy 0.3842\n",
      "Epoch 4 Batch 150 Loss 3.6265 Accuracy 0.3862\n",
      "Epoch 4 Batch 200 Loss 3.6055 Accuracy 0.3895\n",
      "Epoch 4 Batch 250 Loss 3.6049 Accuracy 0.3909\n",
      "Epoch 4 Batch 300 Loss 3.6044 Accuracy 0.3911\n",
      "Epoch 4 Batch 350 Loss 3.5964 Accuracy 0.3922\n",
      "Epoch 4 Batch 400 Loss 3.5889 Accuracy 0.3935\n",
      "Epoch 4 Batch 450 Loss 3.5858 Accuracy 0.3944\n",
      "Epoch 4 Batch 500 Loss 3.5765 Accuracy 0.3956\n",
      "Epoch 4 Batch 550 Loss 3.5751 Accuracy 0.3960\n",
      "Epoch 4 Batch 600 Loss 3.5687 Accuracy 0.3969\n",
      "Epoch 4 Batch 650 Loss 3.5652 Accuracy 0.3972\n",
      "Epoch 4 Batch 700 Loss 3.5601 Accuracy 0.3982\n",
      "Epoch 4 Batch 750 Loss 3.5547 Accuracy 0.3989\n",
      "Epoch 4 Batch 800 Loss 3.5493 Accuracy 0.3997\n",
      "Epoch 4 Batch 850 Loss 3.5411 Accuracy 0.4008\n",
      "Epoch 4 Batch 900 Loss 3.5347 Accuracy 0.4019\n",
      "Epoch 4 Batch 950 Loss 3.5274 Accuracy 0.4028\n",
      "Epoch 4 Batch 1000 Loss 3.5194 Accuracy 0.4040\n",
      "Epoch 4 Batch 1050 Loss 3.5135 Accuracy 0.4050\n",
      "Epoch 4 Batch 1100 Loss 3.5078 Accuracy 0.4059\n",
      "Epoch 4 Batch 1150 Loss 3.5018 Accuracy 0.4067\n",
      "Epoch 4 Batch 1200 Loss 3.4960 Accuracy 0.4078\n",
      "Epoch 4 Batch 1250 Loss 3.4905 Accuracy 0.4085\n",
      "Epoch 4 Batch 1300 Loss 3.4836 Accuracy 0.4095\n",
      "Epoch 4 Batch 1350 Loss 3.4771 Accuracy 0.4105\n",
      "Epoch 4 Batch 1400 Loss 3.4719 Accuracy 0.4113\n",
      "Epoch 4 Batch 1450 Loss 3.4661 Accuracy 0.4120\n",
      "Epoch 4 Batch 1500 Loss 3.4630 Accuracy 0.4125\n",
      "Epoch 4 Batch 1550 Loss 3.4583 Accuracy 0.4132\n",
      "Epoch 4 Batch 1600 Loss 3.4536 Accuracy 0.4139\n",
      "Epoch 4 Loss 3.4517 Accuracy 0.4141\n",
      "Time taken for 1 epoch: 186.31 secs\n",
      "\n",
      "Epoch 5 Batch 0 Loss 2.9089 Accuracy 0.4626\n",
      "Epoch 5 Batch 50 Loss 3.1724 Accuracy 0.4486\n",
      "Epoch 5 Batch 100 Loss 3.1767 Accuracy 0.4464\n",
      "Epoch 5 Batch 150 Loss 3.1838 Accuracy 0.4444\n",
      "Epoch 5 Batch 200 Loss 3.1710 Accuracy 0.4470\n",
      "Epoch 5 Batch 250 Loss 3.1582 Accuracy 0.4488\n",
      "Epoch 5 Batch 300 Loss 3.1482 Accuracy 0.4503\n",
      "Epoch 5 Batch 350 Loss 3.1421 Accuracy 0.4513\n",
      "Epoch 5 Batch 400 Loss 3.1393 Accuracy 0.4514\n",
      "Epoch 5 Batch 450 Loss 3.1379 Accuracy 0.4520\n",
      "Epoch 5 Batch 500 Loss 3.1391 Accuracy 0.4518\n",
      "Epoch 5 Batch 550 Loss 3.1332 Accuracy 0.4527\n",
      "Epoch 5 Batch 600 Loss 3.1242 Accuracy 0.4540\n",
      "Epoch 5 Batch 650 Loss 3.1219 Accuracy 0.4545\n",
      "Epoch 5 Batch 700 Loss 3.1230 Accuracy 0.4544\n",
      "Epoch 5 Batch 750 Loss 3.1201 Accuracy 0.4549\n",
      "Epoch 5 Batch 800 Loss 3.1146 Accuracy 0.4559\n",
      "Epoch 5 Batch 850 Loss 3.1139 Accuracy 0.4561\n",
      "Epoch 5 Batch 900 Loss 3.1117 Accuracy 0.4564\n",
      "Epoch 5 Batch 950 Loss 3.1053 Accuracy 0.4574\n",
      "Epoch 5 Batch 1000 Loss 3.1030 Accuracy 0.4576\n",
      "Epoch 5 Batch 1050 Loss 3.1004 Accuracy 0.4580\n",
      "Epoch 5 Batch 1100 Loss 3.0935 Accuracy 0.4590\n",
      "Epoch 5 Batch 1150 Loss 3.0896 Accuracy 0.4597\n",
      "Epoch 5 Batch 1200 Loss 3.0860 Accuracy 0.4602\n",
      "Epoch 5 Batch 1250 Loss 3.0824 Accuracy 0.4608\n",
      "Epoch 5 Batch 1300 Loss 3.0784 Accuracy 0.4614\n",
      "Epoch 5 Batch 1350 Loss 3.0761 Accuracy 0.4617\n",
      "Epoch 5 Batch 1400 Loss 3.0719 Accuracy 0.4622\n",
      "Epoch 5 Batch 1450 Loss 3.0708 Accuracy 0.4625\n",
      "Epoch 5 Batch 1500 Loss 3.0668 Accuracy 0.4632\n",
      "Epoch 5 Batch 1550 Loss 3.0631 Accuracy 0.4637\n",
      "Epoch 5 Batch 1600 Loss 3.0612 Accuracy 0.4641\n",
      "Saving checkpoint for epoch 5 at ./checkpoints/train\\ckpt-1\n",
      "Epoch 5 Loss 3.0599 Accuracy 0.4643\n",
      "Time taken for 1 epoch: 191.66 secs\n",
      "\n",
      "Epoch 6 Batch 0 Loss 3.2323 Accuracy 0.4350\n",
      "Epoch 6 Batch 50 Loss 2.8462 Accuracy 0.4886\n",
      "Epoch 6 Batch 100 Loss 2.8518 Accuracy 0.4884\n",
      "Epoch 6 Batch 150 Loss 2.8473 Accuracy 0.4901\n",
      "Epoch 6 Batch 200 Loss 2.8386 Accuracy 0.4913\n",
      "Epoch 6 Batch 250 Loss 2.8308 Accuracy 0.4938\n",
      "Epoch 6 Batch 300 Loss 2.8232 Accuracy 0.4950\n",
      "Epoch 6 Batch 350 Loss 2.8224 Accuracy 0.4947\n",
      "Epoch 6 Batch 400 Loss 2.8239 Accuracy 0.4949\n",
      "Epoch 6 Batch 450 Loss 2.8221 Accuracy 0.4956\n",
      "Epoch 6 Batch 500 Loss 2.8201 Accuracy 0.4955\n",
      "Epoch 6 Batch 550 Loss 2.8204 Accuracy 0.4953\n",
      "Epoch 6 Batch 600 Loss 2.8151 Accuracy 0.4964\n",
      "Epoch 6 Batch 650 Loss 2.8139 Accuracy 0.4966\n",
      "Epoch 6 Batch 700 Loss 2.8128 Accuracy 0.4968\n",
      "Epoch 6 Batch 750 Loss 2.8086 Accuracy 0.4974\n",
      "Epoch 6 Batch 800 Loss 2.8087 Accuracy 0.4972\n",
      "Epoch 6 Batch 850 Loss 2.8057 Accuracy 0.4976\n",
      "Epoch 6 Batch 900 Loss 2.8049 Accuracy 0.4978\n",
      "Epoch 6 Batch 950 Loss 2.8041 Accuracy 0.4978\n",
      "Epoch 6 Batch 1000 Loss 2.8032 Accuracy 0.4979\n",
      "Epoch 6 Batch 1050 Loss 2.7996 Accuracy 0.4983\n",
      "Epoch 6 Batch 1100 Loss 2.7955 Accuracy 0.4989\n",
      "Epoch 6 Batch 1150 Loss 2.7924 Accuracy 0.4994\n",
      "Epoch 6 Batch 1200 Loss 2.7890 Accuracy 0.4998\n",
      "Epoch 6 Batch 1250 Loss 2.7871 Accuracy 0.5001\n",
      "Epoch 6 Batch 1300 Loss 2.7863 Accuracy 0.5002\n",
      "Epoch 6 Batch 1350 Loss 2.7841 Accuracy 0.5007\n",
      "Epoch 6 Batch 1400 Loss 2.7821 Accuracy 0.5010\n",
      "Epoch 6 Batch 1450 Loss 2.7811 Accuracy 0.5012\n",
      "Epoch 6 Batch 1500 Loss 2.7793 Accuracy 0.5016\n",
      "Epoch 6 Batch 1550 Loss 2.7771 Accuracy 0.5020\n",
      "Epoch 6 Batch 1600 Loss 2.7763 Accuracy 0.5023\n",
      "Epoch 6 Loss 2.7753 Accuracy 0.5024\n",
      "Time taken for 1 epoch: 192.80 secs\n",
      "\n",
      "Epoch 7 Batch 0 Loss 2.4699 Accuracy 0.5436\n",
      "Epoch 7 Batch 50 Loss 2.5662 Accuracy 0.5275\n",
      "Epoch 7 Batch 100 Loss 2.6032 Accuracy 0.5228\n",
      "Epoch 7 Batch 150 Loss 2.5899 Accuracy 0.5253\n",
      "Epoch 7 Batch 200 Loss 2.5906 Accuracy 0.5250\n",
      "Epoch 7 Batch 250 Loss 2.5897 Accuracy 0.5251\n",
      "Epoch 7 Batch 300 Loss 2.5953 Accuracy 0.5244\n",
      "Epoch 7 Batch 350 Loss 2.5899 Accuracy 0.5253\n",
      "Epoch 7 Batch 400 Loss 2.5881 Accuracy 0.5258\n",
      "Epoch 7 Batch 450 Loss 2.5868 Accuracy 0.5260\n",
      "Epoch 7 Batch 500 Loss 2.5861 Accuracy 0.5266\n",
      "Epoch 7 Batch 550 Loss 2.5811 Accuracy 0.5276\n",
      "Epoch 7 Batch 600 Loss 2.5823 Accuracy 0.5276\n",
      "Epoch 7 Batch 650 Loss 2.5819 Accuracy 0.5277\n",
      "Epoch 7 Batch 700 Loss 2.5831 Accuracy 0.5275\n",
      "Epoch 7 Batch 750 Loss 2.5832 Accuracy 0.5275\n",
      "Epoch 7 Batch 800 Loss 2.5814 Accuracy 0.5278\n",
      "Epoch 7 Batch 850 Loss 2.5803 Accuracy 0.5279\n",
      "Epoch 7 Batch 900 Loss 2.5806 Accuracy 0.5280\n",
      "Epoch 7 Batch 950 Loss 2.5813 Accuracy 0.5280\n",
      "Epoch 7 Batch 1000 Loss 2.5785 Accuracy 0.5284\n",
      "Epoch 7 Batch 1050 Loss 2.5752 Accuracy 0.5289\n",
      "Epoch 7 Batch 1100 Loss 2.5721 Accuracy 0.5294\n",
      "Epoch 7 Batch 1150 Loss 2.5732 Accuracy 0.5294\n",
      "Epoch 7 Batch 1200 Loss 2.5711 Accuracy 0.5298\n",
      "Epoch 7 Batch 1250 Loss 2.5667 Accuracy 0.5305\n",
      "Epoch 7 Batch 1300 Loss 2.5669 Accuracy 0.5306\n",
      "Epoch 7 Batch 1350 Loss 2.5656 Accuracy 0.5306\n",
      "Epoch 7 Batch 1400 Loss 2.5670 Accuracy 0.5303\n",
      "Epoch 7 Batch 1450 Loss 2.5662 Accuracy 0.5305\n",
      "Epoch 7 Batch 1500 Loss 2.5647 Accuracy 0.5307\n",
      "Epoch 7 Batch 1550 Loss 2.5633 Accuracy 0.5310\n",
      "Epoch 7 Batch 1600 Loss 2.5638 Accuracy 0.5309\n",
      "Epoch 7 Loss 2.5637 Accuracy 0.5310\n",
      "Time taken for 1 epoch: 185.76 secs\n",
      "\n",
      "Epoch 8 Batch 0 Loss 2.4557 Accuracy 0.5205\n",
      "Epoch 8 Batch 50 Loss 2.4062 Accuracy 0.5506\n",
      "Epoch 8 Batch 100 Loss 2.3850 Accuracy 0.5556\n",
      "Epoch 8 Batch 150 Loss 2.3946 Accuracy 0.5535\n",
      "Epoch 8 Batch 200 Loss 2.3961 Accuracy 0.5530\n",
      "Epoch 8 Batch 250 Loss 2.4017 Accuracy 0.5519\n",
      "Epoch 8 Batch 300 Loss 2.4065 Accuracy 0.5510\n",
      "Epoch 8 Batch 350 Loss 2.4036 Accuracy 0.5518\n",
      "Epoch 8 Batch 400 Loss 2.4105 Accuracy 0.5512\n",
      "Epoch 8 Batch 450 Loss 2.4080 Accuracy 0.5515\n",
      "Epoch 8 Batch 500 Loss 2.4090 Accuracy 0.5515\n",
      "Epoch 8 Batch 550 Loss 2.4096 Accuracy 0.5515\n",
      "Epoch 8 Batch 600 Loss 2.4072 Accuracy 0.5516\n",
      "Epoch 8 Batch 650 Loss 2.4090 Accuracy 0.5512\n",
      "Epoch 8 Batch 700 Loss 2.4046 Accuracy 0.5519\n",
      "Epoch 8 Batch 750 Loss 2.4054 Accuracy 0.5517\n",
      "Epoch 8 Batch 800 Loss 2.4043 Accuracy 0.5518\n",
      "Epoch 8 Batch 850 Loss 2.4021 Accuracy 0.5522\n",
      "Epoch 8 Batch 900 Loss 2.4036 Accuracy 0.5520\n",
      "Epoch 8 Batch 950 Loss 2.4055 Accuracy 0.5518\n",
      "Epoch 8 Batch 1000 Loss 2.4039 Accuracy 0.5521\n",
      "Epoch 8 Batch 1050 Loss 2.4026 Accuracy 0.5524\n",
      "Epoch 8 Batch 1100 Loss 2.4030 Accuracy 0.5525\n",
      "Epoch 8 Batch 1150 Loss 2.4024 Accuracy 0.5527\n",
      "Epoch 8 Batch 1200 Loss 2.4011 Accuracy 0.5531\n",
      "Epoch 8 Batch 1250 Loss 2.4015 Accuracy 0.5531\n",
      "Epoch 8 Batch 1300 Loss 2.4024 Accuracy 0.5530\n",
      "Epoch 8 Batch 1350 Loss 2.4028 Accuracy 0.5530\n",
      "Epoch 8 Batch 1400 Loss 2.4023 Accuracy 0.5532\n",
      "Epoch 8 Batch 1450 Loss 2.4036 Accuracy 0.5531\n",
      "Epoch 8 Batch 1500 Loss 2.4034 Accuracy 0.5532\n",
      "Epoch 8 Batch 1550 Loss 2.4039 Accuracy 0.5532\n",
      "Epoch 8 Batch 1600 Loss 2.4031 Accuracy 0.5533\n",
      "Epoch 8 Loss 2.4037 Accuracy 0.5532\n",
      "Time taken for 1 epoch: 189.16 secs\n",
      "\n",
      "Epoch 9 Batch 0 Loss 2.3303 Accuracy 0.5622\n",
      "Epoch 9 Batch 50 Loss 2.2229 Accuracy 0.5779\n",
      "Epoch 9 Batch 100 Loss 2.2467 Accuracy 0.5741\n",
      "Epoch 9 Batch 150 Loss 2.2428 Accuracy 0.5738\n",
      "Epoch 9 Batch 200 Loss 2.2493 Accuracy 0.5732\n",
      "Epoch 9 Batch 250 Loss 2.2582 Accuracy 0.5716\n",
      "Epoch 9 Batch 300 Loss 2.2610 Accuracy 0.5717\n",
      "Epoch 9 Batch 350 Loss 2.2661 Accuracy 0.5711\n",
      "Epoch 9 Batch 400 Loss 2.2666 Accuracy 0.5714\n",
      "Epoch 9 Batch 450 Loss 2.2667 Accuracy 0.5714\n",
      "Epoch 9 Batch 500 Loss 2.2697 Accuracy 0.5710\n",
      "Epoch 9 Batch 550 Loss 2.2716 Accuracy 0.5708\n",
      "Epoch 9 Batch 600 Loss 2.2694 Accuracy 0.5711\n",
      "Epoch 9 Batch 650 Loss 2.2702 Accuracy 0.5711\n",
      "Epoch 9 Batch 700 Loss 2.2702 Accuracy 0.5711\n",
      "Epoch 9 Batch 750 Loss 2.2728 Accuracy 0.5707\n",
      "Epoch 9 Batch 800 Loss 2.2745 Accuracy 0.5704\n",
      "Epoch 9 Batch 850 Loss 2.2754 Accuracy 0.5705\n",
      "Epoch 9 Batch 900 Loss 2.2749 Accuracy 0.5705\n",
      "Epoch 9 Batch 950 Loss 2.2733 Accuracy 0.5709\n",
      "Epoch 9 Batch 1000 Loss 2.2735 Accuracy 0.5709\n",
      "Epoch 9 Batch 1050 Loss 2.2721 Accuracy 0.5710\n",
      "Epoch 9 Batch 1100 Loss 2.2713 Accuracy 0.5711\n",
      "Epoch 9 Batch 1150 Loss 2.2729 Accuracy 0.5710\n",
      "Epoch 9 Batch 1200 Loss 2.2725 Accuracy 0.5710\n",
      "Epoch 9 Batch 1250 Loss 2.2728 Accuracy 0.5710\n",
      "Epoch 9 Batch 1300 Loss 2.2728 Accuracy 0.5710\n",
      "Epoch 9 Batch 1350 Loss 2.2730 Accuracy 0.5710\n",
      "Epoch 9 Batch 1400 Loss 2.2720 Accuracy 0.5713\n",
      "Epoch 9 Batch 1450 Loss 2.2723 Accuracy 0.5713\n",
      "Epoch 9 Batch 1500 Loss 2.2732 Accuracy 0.5711\n",
      "Epoch 9 Batch 1550 Loss 2.2737 Accuracy 0.5712\n",
      "Epoch 9 Batch 1600 Loss 2.2743 Accuracy 0.5711\n",
      "Epoch 9 Loss 2.2742 Accuracy 0.5712\n",
      "Time taken for 1 epoch: 188.03 secs\n",
      "\n",
      "Epoch 10 Batch 0 Loss 2.2887 Accuracy 0.5654\n",
      "Epoch 10 Batch 50 Loss 2.1370 Accuracy 0.5878\n",
      "Epoch 10 Batch 100 Loss 2.1400 Accuracy 0.5872\n",
      "Epoch 10 Batch 150 Loss 2.1489 Accuracy 0.5871\n",
      "Epoch 10 Batch 200 Loss 2.1422 Accuracy 0.5878\n",
      "Epoch 10 Batch 250 Loss 2.1406 Accuracy 0.5881\n",
      "Epoch 10 Batch 300 Loss 2.1512 Accuracy 0.5863\n",
      "Epoch 10 Batch 350 Loss 2.1609 Accuracy 0.5857\n",
      "Epoch 10 Batch 400 Loss 2.1571 Accuracy 0.5866\n",
      "Epoch 10 Batch 450 Loss 2.1568 Accuracy 0.5866\n",
      "Epoch 10 Batch 500 Loss 2.1566 Accuracy 0.5865\n",
      "Epoch 10 Batch 550 Loss 2.1560 Accuracy 0.5865\n",
      "Epoch 10 Batch 600 Loss 2.1590 Accuracy 0.5863\n",
      "Epoch 10 Batch 650 Loss 2.1600 Accuracy 0.5859\n",
      "Epoch 10 Batch 700 Loss 2.1593 Accuracy 0.5860\n",
      "Epoch 10 Batch 750 Loss 2.1578 Accuracy 0.5863\n",
      "Epoch 10 Batch 800 Loss 2.1596 Accuracy 0.5862\n",
      "Epoch 10 Batch 850 Loss 2.1590 Accuracy 0.5865\n",
      "Epoch 10 Batch 900 Loss 2.1611 Accuracy 0.5862\n",
      "Epoch 10 Batch 950 Loss 2.1605 Accuracy 0.5863\n",
      "Epoch 10 Batch 1000 Loss 2.1613 Accuracy 0.5861\n",
      "Epoch 10 Batch 1050 Loss 2.1590 Accuracy 0.5867\n",
      "Epoch 10 Batch 1100 Loss 2.1617 Accuracy 0.5862\n",
      "Epoch 10 Batch 1150 Loss 2.1632 Accuracy 0.5861\n",
      "Epoch 10 Batch 1200 Loss 2.1642 Accuracy 0.5861\n",
      "Epoch 10 Batch 1250 Loss 2.1647 Accuracy 0.5860\n",
      "Epoch 10 Batch 1300 Loss 2.1647 Accuracy 0.5860\n",
      "Epoch 10 Batch 1350 Loss 2.1635 Accuracy 0.5864\n",
      "Epoch 10 Batch 1400 Loss 2.1636 Accuracy 0.5865\n",
      "Epoch 10 Batch 1450 Loss 2.1646 Accuracy 0.5864\n",
      "Epoch 10 Batch 1500 Loss 2.1669 Accuracy 0.5862\n",
      "Epoch 10 Batch 1550 Loss 2.1677 Accuracy 0.5861\n",
      "Epoch 10 Batch 1600 Loss 2.1694 Accuracy 0.5859\n",
      "Saving checkpoint for epoch 10 at ./checkpoints/train\\ckpt-2\n",
      "Epoch 10 Loss 2.1692 Accuracy 0.5860\n",
      "Time taken for 1 epoch: 187.17 secs\n",
      "\n",
      "Epoch 11 Batch 0 Loss 2.1768 Accuracy 0.5754\n",
      "Epoch 11 Batch 50 Loss 2.0682 Accuracy 0.5961\n",
      "Epoch 11 Batch 100 Loss 2.0514 Accuracy 0.5994\n",
      "Epoch 11 Batch 150 Loss 2.0442 Accuracy 0.6015\n",
      "Epoch 11 Batch 200 Loss 2.0478 Accuracy 0.6013\n",
      "Epoch 11 Batch 250 Loss 2.0543 Accuracy 0.6003\n",
      "Epoch 11 Batch 300 Loss 2.0605 Accuracy 0.5992\n",
      "Epoch 11 Batch 350 Loss 2.0609 Accuracy 0.5996\n",
      "Epoch 11 Batch 400 Loss 2.0663 Accuracy 0.5987\n",
      "Epoch 11 Batch 450 Loss 2.0668 Accuracy 0.5991\n",
      "Epoch 11 Batch 500 Loss 2.0642 Accuracy 0.5994\n",
      "Epoch 11 Batch 550 Loss 2.0626 Accuracy 0.5997\n",
      "Epoch 11 Batch 600 Loss 2.0626 Accuracy 0.5997\n",
      "Epoch 11 Batch 650 Loss 2.0662 Accuracy 0.5991\n",
      "Epoch 11 Batch 700 Loss 2.0685 Accuracy 0.5987\n",
      "Epoch 11 Batch 750 Loss 2.0709 Accuracy 0.5984\n",
      "Epoch 11 Batch 800 Loss 2.0708 Accuracy 0.5987\n",
      "Epoch 11 Batch 850 Loss 2.0709 Accuracy 0.5987\n",
      "Epoch 11 Batch 900 Loss 2.0707 Accuracy 0.5989\n",
      "Epoch 11 Batch 950 Loss 2.0719 Accuracy 0.5988\n",
      "Epoch 11 Batch 1000 Loss 2.0710 Accuracy 0.5990\n",
      "Epoch 11 Batch 1050 Loss 2.0718 Accuracy 0.5990\n",
      "Epoch 11 Batch 1100 Loss 2.0726 Accuracy 0.5991\n",
      "Epoch 11 Batch 1150 Loss 2.0737 Accuracy 0.5990\n",
      "Epoch 11 Batch 1200 Loss 2.0731 Accuracy 0.5992\n",
      "Epoch 11 Batch 1250 Loss 2.0744 Accuracy 0.5989\n",
      "Epoch 11 Batch 1300 Loss 2.0759 Accuracy 0.5988\n",
      "Epoch 11 Batch 1350 Loss 2.0763 Accuracy 0.5988\n",
      "Epoch 11 Batch 1400 Loss 2.0778 Accuracy 0.5986\n",
      "Epoch 11 Batch 1450 Loss 2.0794 Accuracy 0.5985\n",
      "Epoch 11 Batch 1500 Loss 2.0790 Accuracy 0.5986\n",
      "Epoch 11 Batch 1550 Loss 2.0803 Accuracy 0.5984\n",
      "Epoch 11 Batch 1600 Loss 2.0821 Accuracy 0.5982\n",
      "Epoch 11 Loss 2.0821 Accuracy 0.5983\n",
      "Time taken for 1 epoch: 187.06 secs\n",
      "\n",
      "Epoch 12 Batch 0 Loss 2.0628 Accuracy 0.5941\n",
      "Epoch 12 Batch 50 Loss 1.9694 Accuracy 0.6126\n",
      "Epoch 12 Batch 100 Loss 1.9695 Accuracy 0.6134\n",
      "Epoch 12 Batch 150 Loss 1.9665 Accuracy 0.6135\n",
      "Epoch 12 Batch 200 Loss 1.9621 Accuracy 0.6147\n",
      "Epoch 12 Batch 250 Loss 1.9651 Accuracy 0.6141\n",
      "Epoch 12 Batch 300 Loss 1.9693 Accuracy 0.6137\n",
      "Epoch 12 Batch 350 Loss 1.9742 Accuracy 0.6129\n",
      "Epoch 12 Batch 400 Loss 1.9762 Accuracy 0.6127\n",
      "Epoch 12 Batch 450 Loss 1.9776 Accuracy 0.6129\n",
      "Epoch 12 Batch 500 Loss 1.9810 Accuracy 0.6125\n",
      "Epoch 12 Batch 550 Loss 1.9875 Accuracy 0.6116\n",
      "Epoch 12 Batch 600 Loss 1.9923 Accuracy 0.6110\n",
      "Epoch 12 Batch 650 Loss 1.9943 Accuracy 0.6108\n",
      "Epoch 12 Batch 700 Loss 1.9957 Accuracy 0.6107\n",
      "Epoch 12 Batch 750 Loss 1.9937 Accuracy 0.6110\n",
      "Epoch 12 Batch 800 Loss 1.9939 Accuracy 0.6108\n",
      "Epoch 12 Batch 850 Loss 1.9951 Accuracy 0.6107\n",
      "Epoch 12 Batch 900 Loss 1.9959 Accuracy 0.6105\n",
      "Epoch 12 Batch 950 Loss 1.9941 Accuracy 0.6111\n",
      "Epoch 12 Batch 1000 Loss 1.9945 Accuracy 0.6110\n",
      "Epoch 12 Batch 1050 Loss 1.9952 Accuracy 0.6108\n",
      "Epoch 12 Batch 1100 Loss 1.9962 Accuracy 0.6107\n",
      "Epoch 12 Batch 1150 Loss 1.9974 Accuracy 0.6104\n",
      "Epoch 12 Batch 1200 Loss 1.9997 Accuracy 0.6101\n",
      "Epoch 12 Batch 1250 Loss 2.0008 Accuracy 0.6100\n",
      "Epoch 12 Batch 1300 Loss 2.0008 Accuracy 0.6101\n",
      "Epoch 12 Batch 1350 Loss 2.0019 Accuracy 0.6098\n",
      "Epoch 12 Batch 1400 Loss 2.0032 Accuracy 0.6096\n",
      "Epoch 12 Batch 1450 Loss 2.0045 Accuracy 0.6095\n",
      "Epoch 12 Batch 1500 Loss 2.0056 Accuracy 0.6095\n",
      "Epoch 12 Batch 1550 Loss 2.0071 Accuracy 0.6092\n",
      "Epoch 12 Batch 1600 Loss 2.0098 Accuracy 0.6089\n",
      "Epoch 12 Loss 2.0097 Accuracy 0.6090\n",
      "Time taken for 1 epoch: 187.45 secs\n",
      "\n",
      "Epoch 13 Batch 0 Loss 1.7314 Accuracy 0.6562\n",
      "Epoch 13 Batch 50 Loss 1.8977 Accuracy 0.6263\n",
      "Epoch 13 Batch 100 Loss 1.9001 Accuracy 0.6244\n",
      "Epoch 13 Batch 150 Loss 1.9124 Accuracy 0.6229\n",
      "Epoch 13 Batch 200 Loss 1.9067 Accuracy 0.6229\n",
      "Epoch 13 Batch 250 Loss 1.9085 Accuracy 0.6227\n",
      "Epoch 13 Batch 300 Loss 1.9135 Accuracy 0.6220\n",
      "Epoch 13 Batch 350 Loss 1.9140 Accuracy 0.6218\n",
      "Epoch 13 Batch 400 Loss 1.9110 Accuracy 0.6222\n",
      "Epoch 13 Batch 450 Loss 1.9120 Accuracy 0.6222\n",
      "Epoch 13 Batch 500 Loss 1.9148 Accuracy 0.6219\n",
      "Epoch 13 Batch 550 Loss 1.9173 Accuracy 0.6215\n",
      "Epoch 13 Batch 600 Loss 1.9204 Accuracy 0.6212\n",
      "Epoch 13 Batch 650 Loss 1.9244 Accuracy 0.6206\n",
      "Epoch 13 Batch 700 Loss 1.9241 Accuracy 0.6207\n",
      "Epoch 13 Batch 750 Loss 1.9235 Accuracy 0.6208\n",
      "Epoch 13 Batch 800 Loss 1.9264 Accuracy 0.6205\n",
      "Epoch 13 Batch 850 Loss 1.9276 Accuracy 0.6203\n",
      "Epoch 13 Batch 900 Loss 1.9291 Accuracy 0.6202\n",
      "Epoch 13 Batch 950 Loss 1.9319 Accuracy 0.6199\n",
      "Epoch 13 Batch 1000 Loss 1.9312 Accuracy 0.6201\n",
      "Epoch 13 Batch 1050 Loss 1.9333 Accuracy 0.6198\n",
      "Epoch 13 Batch 1100 Loss 1.9332 Accuracy 0.6199\n",
      "Epoch 13 Batch 1150 Loss 1.9341 Accuracy 0.6199\n",
      "Epoch 13 Batch 1200 Loss 1.9357 Accuracy 0.6198\n",
      "Epoch 13 Batch 1250 Loss 1.9371 Accuracy 0.6196\n",
      "Epoch 13 Batch 1300 Loss 1.9380 Accuracy 0.6195\n",
      "Epoch 13 Batch 1350 Loss 1.9399 Accuracy 0.6191\n",
      "Epoch 13 Batch 1400 Loss 1.9415 Accuracy 0.6188\n",
      "Epoch 13 Batch 1450 Loss 1.9423 Accuracy 0.6188\n",
      "Epoch 13 Batch 1500 Loss 1.9433 Accuracy 0.6186\n",
      "Epoch 13 Batch 1550 Loss 1.9457 Accuracy 0.6183\n",
      "Epoch 13 Batch 1600 Loss 1.9463 Accuracy 0.6184\n",
      "Epoch 13 Loss 1.9460 Accuracy 0.6184\n",
      "Time taken for 1 epoch: 187.80 secs\n",
      "\n",
      "Epoch 14 Batch 0 Loss 1.9961 Accuracy 0.5976\n",
      "Epoch 14 Batch 50 Loss 1.8366 Accuracy 0.6338\n",
      "Epoch 14 Batch 100 Loss 1.8440 Accuracy 0.6329\n",
      "Epoch 14 Batch 150 Loss 1.8387 Accuracy 0.6339\n",
      "Epoch 14 Batch 200 Loss 1.8428 Accuracy 0.6332\n",
      "Epoch 14 Batch 250 Loss 1.8425 Accuracy 0.6334\n",
      "Epoch 14 Batch 300 Loss 1.8408 Accuracy 0.6335\n",
      "Epoch 14 Batch 350 Loss 1.8458 Accuracy 0.6320\n",
      "Epoch 14 Batch 400 Loss 1.8499 Accuracy 0.6314\n",
      "Epoch 14 Batch 450 Loss 1.8566 Accuracy 0.6301\n",
      "Epoch 14 Batch 500 Loss 1.8602 Accuracy 0.6296\n",
      "Epoch 14 Batch 550 Loss 1.8630 Accuracy 0.6291\n",
      "Epoch 14 Batch 600 Loss 1.8656 Accuracy 0.6288\n",
      "Epoch 14 Batch 650 Loss 1.8612 Accuracy 0.6296\n",
      "Epoch 14 Batch 700 Loss 1.8644 Accuracy 0.6291\n",
      "Epoch 14 Batch 750 Loss 1.8672 Accuracy 0.6288\n",
      "Epoch 14 Batch 800 Loss 1.8679 Accuracy 0.6289\n",
      "Epoch 14 Batch 850 Loss 1.8720 Accuracy 0.6282\n",
      "Epoch 14 Batch 900 Loss 1.8717 Accuracy 0.6283\n",
      "Epoch 14 Batch 950 Loss 1.8723 Accuracy 0.6282\n",
      "Epoch 14 Batch 1000 Loss 1.8728 Accuracy 0.6282\n",
      "Epoch 14 Batch 1050 Loss 1.8724 Accuracy 0.6282\n",
      "Epoch 14 Batch 1100 Loss 1.8742 Accuracy 0.6280\n",
      "Epoch 14 Batch 1150 Loss 1.8758 Accuracy 0.6278\n",
      "Epoch 14 Batch 1200 Loss 1.8760 Accuracy 0.6277\n",
      "Epoch 14 Batch 1250 Loss 1.8783 Accuracy 0.6275\n",
      "Epoch 14 Batch 1300 Loss 1.8794 Accuracy 0.6273\n",
      "Epoch 14 Batch 1350 Loss 1.8817 Accuracy 0.6270\n",
      "Epoch 14 Batch 1400 Loss 1.8829 Accuracy 0.6270\n",
      "Epoch 14 Batch 1450 Loss 1.8849 Accuracy 0.6268\n",
      "Epoch 14 Batch 1500 Loss 1.8860 Accuracy 0.6267\n",
      "Epoch 14 Batch 1550 Loss 1.8869 Accuracy 0.6267\n",
      "Epoch 14 Batch 1600 Loss 1.8883 Accuracy 0.6265\n",
      "Epoch 14 Loss 1.8894 Accuracy 0.6264\n",
      "Time taken for 1 epoch: 187.59 secs\n",
      "\n",
      "Epoch 15 Batch 0 Loss 1.7610 Accuracy 0.6397\n",
      "Epoch 15 Batch 50 Loss 1.7999 Accuracy 0.6367\n",
      "Epoch 15 Batch 100 Loss 1.7862 Accuracy 0.6397\n",
      "Epoch 15 Batch 150 Loss 1.7882 Accuracy 0.6392\n",
      "Epoch 15 Batch 200 Loss 1.7994 Accuracy 0.6383\n",
      "Epoch 15 Batch 250 Loss 1.7975 Accuracy 0.6390\n",
      "Epoch 15 Batch 300 Loss 1.8076 Accuracy 0.6376\n",
      "Epoch 15 Batch 350 Loss 1.8103 Accuracy 0.6375\n",
      "Epoch 15 Batch 400 Loss 1.8149 Accuracy 0.6371\n",
      "Epoch 15 Batch 450 Loss 1.8164 Accuracy 0.6367\n",
      "Epoch 15 Batch 500 Loss 1.8151 Accuracy 0.6368\n",
      "Epoch 15 Batch 550 Loss 1.8140 Accuracy 0.6368\n",
      "Epoch 15 Batch 600 Loss 1.8172 Accuracy 0.6365\n",
      "Epoch 15 Batch 650 Loss 1.8193 Accuracy 0.6361\n",
      "Epoch 15 Batch 700 Loss 1.8219 Accuracy 0.6358\n",
      "Epoch 15 Batch 750 Loss 1.8255 Accuracy 0.6352\n",
      "Epoch 15 Batch 800 Loss 1.8259 Accuracy 0.6350\n",
      "Epoch 15 Batch 850 Loss 1.8255 Accuracy 0.6351\n",
      "Epoch 15 Batch 900 Loss 1.8245 Accuracy 0.6352\n",
      "Epoch 15 Batch 950 Loss 1.8270 Accuracy 0.6347\n",
      "Epoch 15 Batch 1000 Loss 1.8285 Accuracy 0.6345\n",
      "Epoch 15 Batch 1050 Loss 1.8306 Accuracy 0.6342\n",
      "Epoch 15 Batch 1100 Loss 1.8317 Accuracy 0.6340\n",
      "Epoch 15 Batch 1150 Loss 1.8311 Accuracy 0.6342\n",
      "Epoch 15 Batch 1200 Loss 1.8310 Accuracy 0.6343\n",
      "Epoch 15 Batch 1250 Loss 1.8314 Accuracy 0.6343\n",
      "Epoch 15 Batch 1300 Loss 1.8325 Accuracy 0.6343\n",
      "Epoch 15 Batch 1350 Loss 1.8337 Accuracy 0.6342\n",
      "Epoch 15 Batch 1400 Loss 1.8355 Accuracy 0.6340\n",
      "Epoch 15 Batch 1450 Loss 1.8364 Accuracy 0.6339\n",
      "Epoch 15 Batch 1500 Loss 1.8382 Accuracy 0.6337\n",
      "Epoch 15 Batch 1550 Loss 1.8397 Accuracy 0.6335\n",
      "Epoch 15 Batch 1600 Loss 1.8412 Accuracy 0.6334\n",
      "Saving checkpoint for epoch 15 at ./checkpoints/train\\ckpt-3\n",
      "Epoch 15 Loss 1.8416 Accuracy 0.6333\n",
      "Time taken for 1 epoch: 192.83 secs\n",
      "\n",
      "Epoch 16 Batch 0 Loss 1.7036 Accuracy 0.6394\n",
      "Epoch 16 Batch 50 Loss 1.7112 Accuracy 0.6507\n",
      "Epoch 16 Batch 100 Loss 1.7235 Accuracy 0.6485\n",
      "Epoch 16 Batch 150 Loss 1.7384 Accuracy 0.6468\n",
      "Epoch 16 Batch 200 Loss 1.7422 Accuracy 0.6461\n",
      "Epoch 16 Batch 250 Loss 1.7396 Accuracy 0.6473\n",
      "Epoch 16 Batch 300 Loss 1.7463 Accuracy 0.6463\n",
      "Epoch 16 Batch 350 Loss 1.7522 Accuracy 0.6454\n",
      "Epoch 16 Batch 400 Loss 1.7547 Accuracy 0.6453\n",
      "Epoch 16 Batch 450 Loss 1.7610 Accuracy 0.6447\n",
      "Epoch 16 Batch 500 Loss 1.7647 Accuracy 0.6442\n",
      "Epoch 16 Batch 550 Loss 1.7666 Accuracy 0.6438\n",
      "Epoch 16 Batch 600 Loss 1.7691 Accuracy 0.6437\n",
      "Epoch 16 Batch 650 Loss 1.7688 Accuracy 0.6438\n",
      "Epoch 16 Batch 700 Loss 1.7709 Accuracy 0.6434\n",
      "Epoch 16 Batch 750 Loss 1.7737 Accuracy 0.6429\n",
      "Epoch 16 Batch 800 Loss 1.7749 Accuracy 0.6431\n",
      "Epoch 16 Batch 850 Loss 1.7770 Accuracy 0.6427\n",
      "Epoch 16 Batch 900 Loss 1.7790 Accuracy 0.6424\n",
      "Epoch 16 Batch 950 Loss 1.7785 Accuracy 0.6425\n",
      "Epoch 16 Batch 1000 Loss 1.7797 Accuracy 0.6425\n",
      "Epoch 16 Batch 1050 Loss 1.7815 Accuracy 0.6422\n",
      "Epoch 16 Batch 1100 Loss 1.7829 Accuracy 0.6421\n",
      "Epoch 16 Batch 1150 Loss 1.7854 Accuracy 0.6417\n",
      "Epoch 16 Batch 1200 Loss 1.7864 Accuracy 0.6415\n",
      "Epoch 16 Batch 1250 Loss 1.7881 Accuracy 0.6413\n",
      "Epoch 16 Batch 1300 Loss 1.7889 Accuracy 0.6411\n",
      "Epoch 16 Batch 1350 Loss 1.7912 Accuracy 0.6407\n",
      "Epoch 16 Batch 1400 Loss 1.7930 Accuracy 0.6403\n",
      "Epoch 16 Batch 1450 Loss 1.7941 Accuracy 0.6403\n",
      "Epoch 16 Batch 1500 Loss 1.7944 Accuracy 0.6404\n",
      "Epoch 16 Batch 1550 Loss 1.7962 Accuracy 0.6402\n",
      "Epoch 16 Batch 1600 Loss 1.7982 Accuracy 0.6399\n",
      "Epoch 16 Loss 1.7982 Accuracy 0.6399\n",
      "Time taken for 1 epoch: 191.89 secs\n",
      "\n",
      "Epoch 17 Batch 0 Loss 1.4806 Accuracy 0.6833\n",
      "Epoch 17 Batch 50 Loss 1.7054 Accuracy 0.6528\n",
      "Epoch 17 Batch 100 Loss 1.6953 Accuracy 0.6553\n",
      "Epoch 17 Batch 150 Loss 1.6944 Accuracy 0.6554\n",
      "Epoch 17 Batch 200 Loss 1.7091 Accuracy 0.6533\n",
      "Epoch 17 Batch 250 Loss 1.7149 Accuracy 0.6529\n",
      "Epoch 17 Batch 300 Loss 1.7208 Accuracy 0.6522\n",
      "Epoch 17 Batch 350 Loss 1.7283 Accuracy 0.6506\n",
      "Epoch 17 Batch 400 Loss 1.7321 Accuracy 0.6497\n",
      "Epoch 17 Batch 450 Loss 1.7291 Accuracy 0.6502\n",
      "Epoch 17 Batch 500 Loss 1.7284 Accuracy 0.6501\n",
      "Epoch 17 Batch 550 Loss 1.7306 Accuracy 0.6499\n",
      "Epoch 17 Batch 600 Loss 1.7333 Accuracy 0.6493\n",
      "Epoch 17 Batch 650 Loss 1.7334 Accuracy 0.6491\n",
      "Epoch 17 Batch 700 Loss 1.7346 Accuracy 0.6489\n",
      "Epoch 17 Batch 750 Loss 1.7346 Accuracy 0.6490\n",
      "Epoch 17 Batch 800 Loss 1.7354 Accuracy 0.6488\n",
      "Epoch 17 Batch 850 Loss 1.7394 Accuracy 0.6482\n",
      "Epoch 17 Batch 900 Loss 1.7389 Accuracy 0.6483\n",
      "Epoch 17 Batch 950 Loss 1.7416 Accuracy 0.6479\n",
      "Epoch 17 Batch 1000 Loss 1.7405 Accuracy 0.6482\n",
      "Epoch 17 Batch 1050 Loss 1.7438 Accuracy 0.6478\n",
      "Epoch 17 Batch 1100 Loss 1.7440 Accuracy 0.6479\n",
      "Epoch 17 Batch 1150 Loss 1.7455 Accuracy 0.6476\n",
      "Epoch 17 Batch 1200 Loss 1.7476 Accuracy 0.6474\n",
      "Epoch 17 Batch 1250 Loss 1.7497 Accuracy 0.6470\n",
      "Epoch 17 Batch 1300 Loss 1.7511 Accuracy 0.6468\n",
      "Epoch 17 Batch 1350 Loss 1.7526 Accuracy 0.6466\n",
      "Epoch 17 Batch 1400 Loss 1.7544 Accuracy 0.6465\n",
      "Epoch 17 Batch 1450 Loss 1.7545 Accuracy 0.6464\n",
      "Epoch 17 Batch 1500 Loss 1.7550 Accuracy 0.6464\n",
      "Epoch 17 Batch 1550 Loss 1.7564 Accuracy 0.6462\n",
      "Epoch 17 Batch 1600 Loss 1.7574 Accuracy 0.6461\n",
      "Epoch 17 Loss 1.7579 Accuracy 0.6461\n",
      "Time taken for 1 epoch: 197.60 secs\n",
      "\n",
      "Epoch 18 Batch 0 Loss 1.4532 Accuracy 0.6882\n",
      "Epoch 18 Batch 50 Loss 1.6396 Accuracy 0.6634\n",
      "Epoch 18 Batch 100 Loss 1.6575 Accuracy 0.6611\n",
      "Epoch 18 Batch 150 Loss 1.6744 Accuracy 0.6577\n",
      "Epoch 18 Batch 200 Loss 1.6761 Accuracy 0.6578\n",
      "Epoch 18 Batch 250 Loss 1.6769 Accuracy 0.6574\n",
      "Epoch 18 Batch 300 Loss 1.6780 Accuracy 0.6572\n",
      "Epoch 18 Batch 350 Loss 1.6807 Accuracy 0.6573\n",
      "Epoch 18 Batch 400 Loss 1.6824 Accuracy 0.6569\n",
      "Epoch 18 Batch 450 Loss 1.6821 Accuracy 0.6570\n",
      "Epoch 18 Batch 500 Loss 1.6808 Accuracy 0.6573\n",
      "Epoch 18 Batch 550 Loss 1.6831 Accuracy 0.6569\n",
      "Epoch 18 Batch 600 Loss 1.6858 Accuracy 0.6563\n",
      "Epoch 18 Batch 650 Loss 1.6871 Accuracy 0.6563\n",
      "Epoch 18 Batch 700 Loss 1.6891 Accuracy 0.6560\n",
      "Epoch 18 Batch 750 Loss 1.6913 Accuracy 0.6558\n",
      "Epoch 18 Batch 800 Loss 1.6929 Accuracy 0.6555\n",
      "Epoch 18 Batch 850 Loss 1.6967 Accuracy 0.6548\n",
      "Epoch 18 Batch 900 Loss 1.6978 Accuracy 0.6546\n",
      "Epoch 18 Batch 950 Loss 1.6988 Accuracy 0.6543\n",
      "Epoch 18 Batch 1000 Loss 1.6990 Accuracy 0.6542\n",
      "Epoch 18 Batch 1050 Loss 1.7007 Accuracy 0.6540\n",
      "Epoch 18 Batch 1100 Loss 1.7039 Accuracy 0.6535\n",
      "Epoch 18 Batch 1150 Loss 1.7056 Accuracy 0.6533\n",
      "Epoch 18 Batch 1200 Loss 1.7087 Accuracy 0.6529\n",
      "Epoch 18 Batch 1250 Loss 1.7101 Accuracy 0.6528\n",
      "Epoch 18 Batch 1300 Loss 1.7120 Accuracy 0.6524\n",
      "Epoch 18 Batch 1350 Loss 1.7123 Accuracy 0.6525\n",
      "Epoch 18 Batch 1400 Loss 1.7143 Accuracy 0.6524\n",
      "Epoch 18 Batch 1450 Loss 1.7166 Accuracy 0.6520\n",
      "Epoch 18 Batch 1500 Loss 1.7192 Accuracy 0.6516\n",
      "Epoch 18 Batch 1550 Loss 1.7207 Accuracy 0.6515\n",
      "Epoch 18 Batch 1600 Loss 1.7227 Accuracy 0.6512\n",
      "Epoch 18 Loss 1.7226 Accuracy 0.6512\n",
      "Time taken for 1 epoch: 194.69 secs\n",
      "\n",
      "Epoch 19 Batch 0 Loss 1.6914 Accuracy 0.6298\n",
      "Epoch 19 Batch 50 Loss 1.6772 Accuracy 0.6571\n",
      "Epoch 19 Batch 100 Loss 1.6649 Accuracy 0.6601\n",
      "Epoch 19 Batch 150 Loss 1.6545 Accuracy 0.6606\n",
      "Epoch 19 Batch 200 Loss 1.6507 Accuracy 0.6621\n",
      "Epoch 19 Batch 250 Loss 1.6436 Accuracy 0.6625\n",
      "Epoch 19 Batch 300 Loss 1.6479 Accuracy 0.6616\n",
      "Epoch 19 Batch 350 Loss 1.6478 Accuracy 0.6621\n",
      "Epoch 19 Batch 400 Loss 1.6487 Accuracy 0.6618\n",
      "Epoch 19 Batch 450 Loss 1.6555 Accuracy 0.6607\n",
      "Epoch 19 Batch 500 Loss 1.6585 Accuracy 0.6603\n",
      "Epoch 19 Batch 550 Loss 1.6604 Accuracy 0.6605\n",
      "Epoch 19 Batch 600 Loss 1.6615 Accuracy 0.6604\n",
      "Epoch 19 Batch 650 Loss 1.6636 Accuracy 0.6600\n",
      "Epoch 19 Batch 700 Loss 1.6659 Accuracy 0.6597\n",
      "Epoch 19 Batch 750 Loss 1.6676 Accuracy 0.6592\n",
      "Epoch 19 Batch 800 Loss 1.6687 Accuracy 0.6590\n",
      "Epoch 19 Batch 850 Loss 1.6715 Accuracy 0.6584\n",
      "Epoch 19 Batch 900 Loss 1.6709 Accuracy 0.6585\n",
      "Epoch 19 Batch 950 Loss 1.6692 Accuracy 0.6588\n",
      "Epoch 19 Batch 1000 Loss 1.6699 Accuracy 0.6587\n",
      "Epoch 19 Batch 1050 Loss 1.6721 Accuracy 0.6583\n",
      "Epoch 19 Batch 1100 Loss 1.6743 Accuracy 0.6579\n",
      "Epoch 19 Batch 1150 Loss 1.6758 Accuracy 0.6578\n",
      "Epoch 19 Batch 1200 Loss 1.6771 Accuracy 0.6575\n",
      "Epoch 19 Batch 1250 Loss 1.6783 Accuracy 0.6574\n",
      "Epoch 19 Batch 1300 Loss 1.6799 Accuracy 0.6572\n",
      "Epoch 19 Batch 1350 Loss 1.6816 Accuracy 0.6571\n",
      "Epoch 19 Batch 1400 Loss 1.6834 Accuracy 0.6569\n",
      "Epoch 19 Batch 1450 Loss 1.6852 Accuracy 0.6566\n",
      "Epoch 19 Batch 1500 Loss 1.6869 Accuracy 0.6564\n",
      "Epoch 19 Batch 1550 Loss 1.6877 Accuracy 0.6563\n",
      "Epoch 19 Batch 1600 Loss 1.6893 Accuracy 0.6560\n",
      "Epoch 19 Loss 1.6901 Accuracy 0.6559\n",
      "Time taken for 1 epoch: 190.84 secs\n",
      "\n",
      "Epoch 20 Batch 0 Loss 1.7769 Accuracy 0.6223\n",
      "Epoch 20 Batch 50 Loss 1.6271 Accuracy 0.6650\n",
      "Epoch 20 Batch 100 Loss 1.6183 Accuracy 0.6664\n",
      "Epoch 20 Batch 150 Loss 1.6223 Accuracy 0.6654\n",
      "Epoch 20 Batch 200 Loss 1.6192 Accuracy 0.6658\n",
      "Epoch 20 Batch 250 Loss 1.6235 Accuracy 0.6653\n",
      "Epoch 20 Batch 300 Loss 1.6291 Accuracy 0.6646\n",
      "Epoch 20 Batch 350 Loss 1.6319 Accuracy 0.6644\n",
      "Epoch 20 Batch 400 Loss 1.6324 Accuracy 0.6645\n",
      "Epoch 20 Batch 450 Loss 1.6332 Accuracy 0.6644\n",
      "Epoch 20 Batch 500 Loss 1.6305 Accuracy 0.6645\n",
      "Epoch 20 Batch 550 Loss 1.6293 Accuracy 0.6648\n",
      "Epoch 20 Batch 600 Loss 1.6291 Accuracy 0.6648\n",
      "Epoch 20 Batch 650 Loss 1.6328 Accuracy 0.6640\n",
      "Epoch 20 Batch 700 Loss 1.6330 Accuracy 0.6640\n",
      "Epoch 20 Batch 750 Loss 1.6341 Accuracy 0.6639\n",
      "Epoch 20 Batch 800 Loss 1.6363 Accuracy 0.6635\n",
      "Epoch 20 Batch 850 Loss 1.6378 Accuracy 0.6631\n",
      "Epoch 20 Batch 900 Loss 1.6375 Accuracy 0.6632\n",
      "Epoch 20 Batch 950 Loss 1.6390 Accuracy 0.6630\n",
      "Epoch 20 Batch 1000 Loss 1.6390 Accuracy 0.6630\n",
      "Epoch 20 Batch 1050 Loss 1.6412 Accuracy 0.6627\n",
      "Epoch 20 Batch 1100 Loss 1.6438 Accuracy 0.6624\n",
      "Epoch 20 Batch 1150 Loss 1.6467 Accuracy 0.6620\n",
      "Epoch 20 Batch 1200 Loss 1.6474 Accuracy 0.6621\n",
      "Epoch 20 Batch 1250 Loss 1.6493 Accuracy 0.6618\n",
      "Epoch 20 Batch 1300 Loss 1.6493 Accuracy 0.6618\n",
      "Epoch 20 Batch 1350 Loss 1.6512 Accuracy 0.6615\n",
      "Epoch 20 Batch 1400 Loss 1.6530 Accuracy 0.6612\n",
      "Epoch 20 Batch 1450 Loss 1.6539 Accuracy 0.6612\n",
      "Epoch 20 Batch 1500 Loss 1.6549 Accuracy 0.6610\n",
      "Epoch 20 Batch 1550 Loss 1.6569 Accuracy 0.6608\n",
      "Epoch 20 Batch 1600 Loss 1.6590 Accuracy 0.6605\n",
      "Saving checkpoint for epoch 20 at ./checkpoints/train\\ckpt-4\n",
      "Epoch 20 Loss 1.6588 Accuracy 0.6605\n",
      "Time taken for 1 epoch: 186.05 secs\n",
      "\n"
     ]
    }
   ],
   "source": [
    "for epoch in range(EPOCHS):\n",
    "  start = time.time()\n",
    "\n",
    "  train_loss.reset_states()\n",
    "  train_accuracy.reset_states()\n",
    "\n",
    "  # inp -> portuguese, tar -> english\n",
    "  for (batch, (inp, tar)) in enumerate(train_batches):\n",
    "    train_step(inp, tar)\n",
    "\n",
    "    if batch % 50 == 0:\n",
    "      print(f'Epoch {epoch + 1} Batch {batch} Loss {train_loss.result():.4f} Accuracy {train_accuracy.result():.4f}')\n",
    "\n",
    "  if (epoch + 1) % 5 == 0:\n",
    "    ckpt_save_path = ckpt_manager.save()\n",
    "    print(f'Saving checkpoint for epoch {epoch+1} at {ckpt_save_path}')\n",
    "\n",
    "  print(f'Epoch {epoch + 1} Loss {train_loss.result():.4f} Accuracy {train_accuracy.result():.4f}')\n",
    "\n",
    "  print(f'Time taken for 1 epoch: {time.time() - start:.2f} secs\\n')"
   ]
  },
  {
   "cell_type": "markdown",
   "metadata": {
    "id": "QfcsSWswSdGV"
   },
   "source": [
    "### Run inference"
   ]
  },
  {
   "cell_type": "markdown",
   "metadata": {
    "id": "y6APsFrgImLW"
   },
   "source": [
    "The following steps are used for inference:\n",
    "\n",
    "* Encode the input sentence using the Portuguese tokenizer (`tokenizers.pt`). This is the encoder input.\n",
    "* The decoder input is initialized to the `[START]` token.\n",
    "* Calculate the padding masks and the look ahead masks.\n",
    "* The `decoder` then outputs the predictions by looking at the `encoder output` and its own output (self-attention).\n",
    "* Concatenate the predicted token to the decoder input and pass it to the decoder.\n",
    "* In this approach, the decoder predicts the next token based on the previous tokens it predicted."
   ]
  },
  {
   "cell_type": "markdown",
   "metadata": {
    "id": "-FQmQwtv9-kk"
   },
   "source": [
    "Note: The model is optimized for _efficient training_ and makes a next-token prediction for each token in the output simultaneously. This is redundant during inference, and only the last prediction is used.  This model can be made more efficient for inference if you only calculate the last prediction when running in inference mode (`training=False`)."
   ]
  },
  {
   "cell_type": "code",
   "execution_count": 56,
   "metadata": {
    "execution": {
     "iopub.execute_input": "2022-02-04T13:18:58.443691Z",
     "iopub.status.busy": "2022-02-04T13:18:58.443036Z",
     "iopub.status.idle": "2022-02-04T13:18:58.445627Z",
     "shell.execute_reply": "2022-02-04T13:18:58.445158Z"
    },
    "id": "5buvMlnvyrFm"
   },
   "outputs": [],
   "source": [
    "class Translator(tf.Module):\n",
    "  def __init__(self, tokenizers, transformer):\n",
    "    self.tokenizers = tokenizers\n",
    "    self.transformer = transformer\n",
    "\n",
    "  def __call__(self, sentence, max_length=20):\n",
    "    # input sentence is portuguese, hence adding the start and end token\n",
    "    assert isinstance(sentence, tf.Tensor)\n",
    "    if len(sentence.shape) == 0:\n",
    "      sentence = sentence[tf.newaxis]\n",
    "\n",
    "    sentence = self.tokenizers.pt.tokenize(sentence).to_tensor()\n",
    "    \n",
    "    encoder_input = sentence\n",
    "\n",
    "    # as the target is english, the first token to the transformer should be the\n",
    "    # english start token.\n",
    "    start_end = self.tokenizers.en.tokenize([''])[0]\n",
    "    start = start_end[0][tf.newaxis]\n",
    "    end = start_end[1][tf.newaxis]\n",
    "\n",
    "    # `tf.TensorArray` is required here (instead of a python list) so that the\n",
    "    # dynamic-loop can be traced by `tf.function`.\n",
    "    output_array = tf.TensorArray(dtype=tf.int64, size=0, dynamic_size=True)\n",
    "    output_array = output_array.write(0, start)\n",
    "    \n",
    "    for i in tf.range(max_length):\n",
    "      output = tf.transpose(output_array.stack())\n",
    "      predictions, _ = self.transformer([encoder_input, output], training=False)\n",
    "      \n",
    "      # select the last token from the seq_len dimension\n",
    "      predictions = predictions[:, -1:, :]  # (batch_size, 1, vocab_size)\n",
    "\n",
    "      predicted_id = tf.argmax(predictions, axis=-1)\n",
    "\n",
    "      # concatentate the predicted_id to the output which is given to the decoder\n",
    "      # as its input.\n",
    "      output_array = output_array.write(i+1, predicted_id[0])\n",
    "\n",
    "      if predicted_id == end:\n",
    "        break\n",
    "\n",
    "    output = tf.transpose(output_array.stack())\n",
    "    # output.shape (1, tokens)\n",
    "    text = tokenizers.en.detokenize(output)[0]  # shape: ()\n",
    "\n",
    "    tokens = tokenizers.en.lookup(output)[0]\n",
    "\n",
    "    # `tf.function` prevents us from using the attention_weights that were\n",
    "    # calculated on the last iteration of the loop. So recalculate them outside\n",
    "    # the loop.\n",
    "    _, attention_weights = self.transformer([encoder_input, output[:,:-1]], training=False)\n",
    "\n",
    "    return text, tokens, attention_weights"
   ]
  },
  {
   "cell_type": "markdown",
   "metadata": {
    "id": "ofUWszmY3szZ"
   },
   "source": [
    "Create an instance of this `Translator` class, and try it out a few times:"
   ]
  },
  {
   "cell_type": "code",
   "execution_count": 57,
   "metadata": {
    "execution": {
     "iopub.execute_input": "2022-02-04T13:18:58.449653Z",
     "iopub.status.busy": "2022-02-04T13:18:58.449086Z",
     "iopub.status.idle": "2022-02-04T13:18:58.451716Z",
     "shell.execute_reply": "2022-02-04T13:18:58.451254Z"
    },
    "id": "4OR2D4EXeIRY"
   },
   "outputs": [],
   "source": [
    "translator = Translator(tokenizers, transformer)"
   ]
  },
  {
   "cell_type": "code",
   "execution_count": 58,
   "metadata": {
    "execution": {
     "iopub.execute_input": "2022-02-04T13:18:58.456024Z",
     "iopub.status.busy": "2022-02-04T13:18:58.455423Z",
     "iopub.status.idle": "2022-02-04T13:18:58.457890Z",
     "shell.execute_reply": "2022-02-04T13:18:58.457460Z"
    },
    "id": "lU2_yG_vBGza"
   },
   "outputs": [],
   "source": [
    "def print_translation(sentence, tokens, ground_truth):\n",
    "  print(f'{\"Input:\":15s}: {sentence}')\n",
    "  print(f'{\"Prediction\":15s}: {tokens.numpy().decode(\"utf-8\")}')\n",
    "  print(f'{\"Ground truth\":15s}: {ground_truth}')"
   ]
  },
  {
   "cell_type": "code",
   "execution_count": 59,
   "metadata": {
    "execution": {
     "iopub.execute_input": "2022-02-04T13:18:58.462642Z",
     "iopub.status.busy": "2022-02-04T13:18:58.462013Z",
     "iopub.status.idle": "2022-02-04T13:19:00.603439Z",
     "shell.execute_reply": "2022-02-04T13:19:00.603827Z"
    },
    "id": "YsxrAlvFG8SZ"
   },
   "outputs": [
    {
     "name": "stdout",
     "output_type": "stream",
     "text": [
      "Input:         : este é um problema que temos que resolver.\n",
      "Prediction     : this is a problem that we have to solve .\n",
      "Ground truth   : this is a problem we have to solve .\n"
     ]
    }
   ],
   "source": [
    "sentence = \"este é um problema que temos que resolver.\"\n",
    "ground_truth = \"this is a problem we have to solve .\"\n",
    "\n",
    "translated_text, translated_tokens, attention_weights = translator(\n",
    "    tf.constant(sentence))\n",
    "print_translation(sentence, translated_text, ground_truth)"
   ]
  },
  {
   "cell_type": "code",
   "execution_count": 60,
   "metadata": {
    "execution": {
     "iopub.execute_input": "2022-02-04T13:19:00.609459Z",
     "iopub.status.busy": "2022-02-04T13:19:00.608593Z",
     "iopub.status.idle": "2022-02-04T13:19:01.790662Z",
     "shell.execute_reply": "2022-02-04T13:19:01.791011Z"
    },
    "id": "7EH5y_aqI4t1"
   },
   "outputs": [
    {
     "name": "stdout",
     "output_type": "stream",
     "text": [
      "Input:         : os meus vizinhos ouviram sobre esta ideia.\n",
      "Prediction     : my neighbors heard about this idea .\n",
      "Ground truth   : and my neighboring homes heard about this idea .\n"
     ]
    }
   ],
   "source": [
    "sentence = \"os meus vizinhos ouviram sobre esta ideia.\"\n",
    "ground_truth = \"and my neighboring homes heard about this idea .\"\n",
    "\n",
    "translated_text, translated_tokens, attention_weights = translator(\n",
    "    tf.constant(sentence))\n",
    "print_translation(sentence, translated_text, ground_truth)"
   ]
  },
  {
   "cell_type": "code",
   "execution_count": 61,
   "metadata": {
    "execution": {
     "iopub.execute_input": "2022-02-04T13:19:01.796417Z",
     "iopub.status.busy": "2022-02-04T13:19:01.795657Z",
     "iopub.status.idle": "2022-02-04T13:19:04.426365Z",
     "shell.execute_reply": "2022-02-04T13:19:04.426755Z"
    },
    "id": "J-hVCTSUMlkb"
   },
   "outputs": [
    {
     "name": "stdout",
     "output_type": "stream",
     "text": [
      "Input:         : vou então muito rapidamente partilhar convosco algumas histórias de algumas coisas mágicas que aconteceram.\n",
      "Prediction     : so i ' m going to very quickly share with you some magical stories of some magical things that happened\n",
      "Ground truth   : so i 'll just share with you some stories very quickly of some magical things that have happened .\n"
     ]
    }
   ],
   "source": [
    "sentence = \"vou então muito rapidamente partilhar convosco algumas histórias de algumas coisas mágicas que aconteceram.\"\n",
    "ground_truth = \"so i \\'ll just share with you some stories very quickly of some magical things that have happened .\"\n",
    "\n",
    "translated_text, translated_tokens, attention_weights = translator(\n",
    "    tf.constant(sentence))\n",
    "print_translation(sentence, translated_text, ground_truth)"
   ]
  },
  {
   "cell_type": "markdown",
   "metadata": {
    "id": "S3EQiFUC--Ds"
   },
   "source": [
    "## Attention plots"
   ]
  },
  {
   "cell_type": "markdown",
   "metadata": {
    "id": "hHV2pdXHGz-0"
   },
   "source": [
    "The `Translator` class returns a dictionary of attention maps you can use to visualize the internal working of the model:"
   ]
  },
  {
   "cell_type": "code",
   "execution_count": 62,
   "metadata": {
    "execution": {
     "iopub.execute_input": "2022-02-04T13:19:04.432713Z",
     "iopub.status.busy": "2022-02-04T13:19:04.431858Z",
     "iopub.status.idle": "2022-02-04T13:19:05.857799Z",
     "shell.execute_reply": "2022-02-04T13:19:05.857328Z"
    },
    "id": "t-kFyiOLH0xg"
   },
   "outputs": [
    {
     "name": "stdout",
     "output_type": "stream",
     "text": [
      "Input:         : este é o primeiro livro que eu fiz.\n",
      "Prediction     : this is the first book i did .\n",
      "Ground truth   : this is the first book i've ever done.\n"
     ]
    }
   ],
   "source": [
    "sentence = \"este é o primeiro livro que eu fiz.\"\n",
    "ground_truth = \"this is the first book i've ever done.\"\n",
    "\n",
    "translated_text, translated_tokens, attention_weights = translator(\n",
    "    tf.constant(sentence))\n",
    "print_translation(sentence, translated_text, ground_truth)"
   ]
  },
  {
   "cell_type": "code",
   "execution_count": 63,
   "metadata": {
    "execution": {
     "iopub.execute_input": "2022-02-04T13:19:05.863684Z",
     "iopub.status.busy": "2022-02-04T13:19:05.863116Z",
     "iopub.status.idle": "2022-02-04T13:19:05.864897Z",
     "shell.execute_reply": "2022-02-04T13:19:05.865228Z"
    },
    "id": "CcI4DxAK5EHY"
   },
   "outputs": [],
   "source": [
    "def plot_attention_head(in_tokens, translated_tokens, attention):\n",
    "  # The plot is of the attention when a token was generated.\n",
    "  # The model didn't generate `<START>` in the output. Skip it.\n",
    "  translated_tokens = translated_tokens[1:]\n",
    "\n",
    "  ax = plt.gca()\n",
    "  ax.matshow(attention)\n",
    "  ax.set_xticks(range(len(in_tokens)))\n",
    "  ax.set_yticks(range(len(translated_tokens)))\n",
    "\n",
    "  labels = [label.decode('utf-8') for label in in_tokens.numpy()]\n",
    "  ax.set_xticklabels(\n",
    "      labels, rotation=90)\n",
    "\n",
    "  labels = [label.decode('utf-8') for label in translated_tokens.numpy()]\n",
    "  ax.set_yticklabels(labels)"
   ]
  },
  {
   "cell_type": "code",
   "execution_count": 64,
   "metadata": {
    "execution": {
     "iopub.execute_input": "2022-02-04T13:19:05.869898Z",
     "iopub.status.busy": "2022-02-04T13:19:05.868547Z",
     "iopub.status.idle": "2022-02-04T13:19:05.872218Z",
     "shell.execute_reply": "2022-02-04T13:19:05.872563Z"
    },
    "id": "_KY4c2cryuxY"
   },
   "outputs": [
    {
     "data": {
      "text/plain": "TensorShape([9, 11])"
     },
     "execution_count": 64,
     "metadata": {},
     "output_type": "execute_result"
    }
   ],
   "source": [
    "head = 0\n",
    "# shape: (batch=1, num_heads, seq_len_q, seq_len_k)\n",
    "attention_heads = tf.squeeze(\n",
    "  attention_weights['decoder_layer4_block2'], 0)\n",
    "attention = attention_heads[head]\n",
    "attention.shape"
   ]
  },
  {
   "cell_type": "code",
   "execution_count": 65,
   "metadata": {
    "execution": {
     "iopub.execute_input": "2022-02-04T13:19:05.877244Z",
     "iopub.status.busy": "2022-02-04T13:19:05.876390Z",
     "iopub.status.idle": "2022-02-04T13:19:05.896151Z",
     "shell.execute_reply": "2022-02-04T13:19:05.896534Z"
    },
    "id": "XdxmakWE6Om3"
   },
   "outputs": [
    {
     "data": {
      "text/plain": "<tf.Tensor: shape=(11,), dtype=string, numpy=\narray([b'[START]', b'este', b'e', b'o', b'primeiro', b'livro', b'que',\n       b'eu', b'fiz', b'.', b'[END]'], dtype=object)>"
     },
     "execution_count": 65,
     "metadata": {},
     "output_type": "execute_result"
    }
   ],
   "source": [
    "in_tokens = tf.convert_to_tensor([sentence])\n",
    "in_tokens = tokenizers.pt.tokenize(in_tokens).to_tensor()\n",
    "in_tokens = tokenizers.pt.lookup(in_tokens)[0]\n",
    "in_tokens"
   ]
  },
  {
   "cell_type": "code",
   "execution_count": 66,
   "metadata": {
    "execution": {
     "iopub.execute_input": "2022-02-04T13:19:05.900859Z",
     "iopub.status.busy": "2022-02-04T13:19:05.900258Z",
     "iopub.status.idle": "2022-02-04T13:19:05.902893Z",
     "shell.execute_reply": "2022-02-04T13:19:05.902471Z"
    },
    "id": "hVdPSfecmrpj"
   },
   "outputs": [
    {
     "data": {
      "text/plain": "<tf.Tensor: shape=(10,), dtype=string, numpy=\narray([b'[START]', b'this', b'is', b'the', b'first', b'book', b'i',\n       b'did', b'.', b'[END]'], dtype=object)>"
     },
     "execution_count": 66,
     "metadata": {},
     "output_type": "execute_result"
    }
   ],
   "source": [
    "translated_tokens"
   ]
  },
  {
   "cell_type": "code",
   "execution_count": 67,
   "metadata": {
    "execution": {
     "iopub.execute_input": "2022-02-04T13:19:05.917994Z",
     "iopub.status.busy": "2022-02-04T13:19:05.905862Z",
     "iopub.status.idle": "2022-02-04T13:19:06.041238Z",
     "shell.execute_reply": "2022-02-04T13:19:06.041984Z"
    },
    "id": "XtzyKCFamm4N"
   },
   "outputs": [
    {
     "data": {
      "text/plain": "<Figure size 432x288 with 1 Axes>",
      "image/png": "[encoded data removed]"
     },
     "metadata": {
      "needs_background": "light"
     },
     "output_type": "display_data"
    }
   ],
   "source": [
    "plot_attention_head(in_tokens, translated_tokens, attention)"
   ]
  },
  {
   "cell_type": "code",
   "execution_count": 68,
   "metadata": {
    "execution": {
     "iopub.execute_input": "2022-02-04T13:19:06.049028Z",
     "iopub.status.busy": "2022-02-04T13:19:06.047943Z",
     "iopub.status.idle": "2022-02-04T13:19:06.050034Z",
     "shell.execute_reply": "2022-02-04T13:19:06.050734Z"
    },
    "id": "MBliB-PCzNK3"
   },
   "outputs": [],
   "source": [
    "def plot_attention_weights(sentence, translated_tokens, attention_heads):\n",
    "  in_tokens = tf.convert_to_tensor([sentence])\n",
    "  in_tokens = tokenizers.pt.tokenize(in_tokens).to_tensor()\n",
    "  in_tokens = tokenizers.pt.lookup(in_tokens)[0]\n",
    "  in_tokens\n",
    "\n",
    "  fig = plt.figure(figsize=(16, 8))\n",
    "\n",
    "  for h, head in enumerate(attention_heads):\n",
    "    ax = fig.add_subplot(2, 4, h+1)\n",
    "\n",
    "    plot_attention_head(in_tokens, translated_tokens, head)\n",
    "\n",
    "    ax.set_xlabel(f'Head {h+1}')\n",
    "\n",
    "  plt.tight_layout()\n",
    "  plt.show()"
   ]
  },
  {
   "cell_type": "code",
   "execution_count": 69,
   "metadata": {
    "execution": {
     "iopub.execute_input": "2022-02-04T13:19:06.055654Z",
     "iopub.status.busy": "2022-02-04T13:19:06.054948Z",
     "iopub.status.idle": "2022-02-04T13:19:07.091771Z",
     "shell.execute_reply": "2022-02-04T13:19:07.092434Z"
    },
    "id": "pyRQi7944wru"
   },
   "outputs": [
    {
     "data": {
      "text/plain": "<Figure size 1152x576 with 8 Axes>",
      "image/png": "[encoded data removed]"
     },
     "metadata": {
      "needs_background": "light"
     },
     "output_type": "display_data"
    }
   ],
   "source": [
    "plot_attention_weights(sentence, translated_tokens,\n",
    "                       attention_weights['decoder_layer4_block2'][0])"
   ]
  },
  {
   "cell_type": "markdown",
   "metadata": {
    "id": "MZJirKUtikTt"
   },
   "source": [
    "The model does okay on unfamiliar words. Neither \"triceratops\" or \"encyclopedia\" are in the input dataset and the model almost learns to transliterate them, even without a shared vocabulary:"
   ]
  },
  {
   "cell_type": "code",
   "execution_count": 70,
   "metadata": {
    "execution": {
     "iopub.execute_input": "2022-02-04T13:19:07.099598Z",
     "iopub.status.busy": "2022-02-04T13:19:07.098640Z",
     "iopub.status.idle": "2022-02-04T13:19:11.322785Z",
     "shell.execute_reply": "2022-02-04T13:19:11.323191Z"
    },
    "id": "9cxysY7uh3jg"
   },
   "outputs": [
    {
     "name": "stdout",
     "output_type": "stream",
     "text": [
      "Input:         : Eu li sobre triceratops na enciclopédia.\n",
      "Prediction     : i read about triopcom in the enclory .\n",
      "Ground truth   : I read about triceratops in the encyclopedia.\n"
     ]
    },
    {
     "data": {
      "text/plain": "<Figure size 1152x576 with 8 Axes>",
      "image/png": "[encoded data removed]"
     },
     "metadata": {
      "needs_background": "light"
     },
     "output_type": "display_data"
    }
   ],
   "source": [
    "sentence = \"Eu li sobre triceratops na enciclopédia.\"\n",
    "ground_truth = \"I read about triceratops in the encyclopedia.\"\n",
    "\n",
    "translated_text, translated_tokens, attention_weights = translator(\n",
    "    tf.constant(sentence))\n",
    "print_translation(sentence, translated_text, ground_truth)\n",
    "\n",
    "plot_attention_weights(sentence, translated_tokens,\n",
    "                       attention_weights['decoder_layer4_block2'][0])"
   ]
  },
  {
   "cell_type": "markdown",
   "metadata": {
    "id": "mOyiOetL2l60"
   },
   "source": [
    "## Export"
   ]
  },
  {
   "cell_type": "markdown",
   "metadata": {
    "id": "YTK3g2UL2oMc"
   },
   "source": [
    "That inference model is working, so next you'll export it as a `tf.saved_model`.\n",
    "\n",
    "To do that, wrap it in yet another `tf.Module` sub-class, this time with a `tf.function` on the `__call__` method:"
   ]
  },
  {
   "cell_type": "code",
   "execution_count": 71,
   "metadata": {
    "execution": {
     "iopub.execute_input": "2022-02-04T13:19:11.329637Z",
     "iopub.status.busy": "2022-02-04T13:19:11.329031Z",
     "iopub.status.idle": "2022-02-04T13:19:11.331698Z",
     "shell.execute_reply": "2022-02-04T13:19:11.331229Z"
    },
    "id": "GRmzkibLusQi"
   },
   "outputs": [],
   "source": [
    "class ExportTranslator(tf.Module):\n",
    "  def __init__(self, translator):\n",
    "    self.translator = translator\n",
    "\n",
    "  @tf.function(input_signature=[tf.TensorSpec(shape=[], dtype=tf.string)])\n",
    "  def __call__(self, sentence):\n",
    "    (result, \n",
    "     tokens,\n",
    "     attention_weights) = self.translator(sentence, max_length=100)\n",
    "    \n",
    "    return result"
   ]
  },
  {
   "cell_type": "markdown",
   "metadata": {
    "id": "O9f_pmEA4kql"
   },
   "source": [
    "In the above `tf.function` only the output sentence is returned. Thanks to the [non-strict execution](https://tensorflow.org/guide/intro_to_graphs) in `tf.function` any unnecessary values are never computed."
   ]
  },
  {
   "cell_type": "code",
   "execution_count": 72,
   "metadata": {
    "execution": {
     "iopub.execute_input": "2022-02-04T13:19:11.337308Z",
     "iopub.status.busy": "2022-02-04T13:19:11.336694Z",
     "iopub.status.idle": "2022-02-04T13:19:11.339366Z",
     "shell.execute_reply": "2022-02-04T13:19:11.338834Z"
    },
    "id": "EfomoJDP2n5n"
   },
   "outputs": [],
   "source": [
    "translator = ExportTranslator(translator)"
   ]
  },
  {
   "cell_type": "markdown",
   "metadata": {
    "id": "SUfoCWPS9LuB"
   },
   "source": [
    "Since the model is decoding the predictions using `tf.argmax` the predictions are deterministic. The original model and one reloaded from its `SavedModel` should give identical predictions:"
   ]
  },
  {
   "cell_type": "code",
   "execution_count": 73,
   "metadata": {
    "execution": {
     "iopub.execute_input": "2022-02-04T13:19:11.346378Z",
     "iopub.status.busy": "2022-02-04T13:19:11.345664Z",
     "iopub.status.idle": "2022-02-04T13:19:17.304750Z",
     "shell.execute_reply": "2022-02-04T13:19:17.304238Z"
    },
    "id": "hAlqyycz3IYL"
   },
   "outputs": [
    {
     "data": {
      "text/plain": "b'this is the first book i did .'"
     },
     "execution_count": 73,
     "metadata": {},
     "output_type": "execute_result"
    }
   ],
   "source": [
    "translator(\"este é o primeiro livro que eu fiz.\").numpy()"
   ]
  },
  {
   "cell_type": "code",
   "execution_count": 74,
   "metadata": {
    "execution": {
     "iopub.execute_input": "2022-02-04T13:19:17.328432Z",
     "iopub.status.busy": "2022-02-04T13:19:17.317628Z",
     "iopub.status.idle": "2022-02-04T13:19:42.256729Z",
     "shell.execute_reply": "2022-02-04T13:19:42.255396Z"
    },
    "id": "ar3LO-Vuvlnv"
   },
   "outputs": [
    {
     "name": "stderr",
     "output_type": "stream",
     "text": [
      "WARNING:absl:Found untraced functions such as embedding_4_layer_call_fn, embedding_4_layer_call_and_return_conditional_losses, dropout_37_layer_call_fn, dropout_37_layer_call_and_return_conditional_losses, embedding_5_layer_call_fn while saving (showing 5 of 560). These functions will not be directly callable after loading.\n"
     ]
    }
   ],
   "source": [
    "tf.saved_model.save(translator, export_dir='translator')"
   ]
  },
  {
   "cell_type": "code",
   "execution_count": 75,
   "metadata": {
    "execution": {
     "iopub.execute_input": "2022-02-04T13:19:42.264208Z",
     "iopub.status.busy": "2022-02-04T13:19:42.263563Z",
     "iopub.status.idle": "2022-02-04T13:19:51.068598Z",
     "shell.execute_reply": "2022-02-04T13:19:51.069029Z"
    },
    "id": "8WUflwyT1SEF"
   },
   "outputs": [],
   "source": [
    "reloaded = tf.saved_model.load('translator')"
   ]
  },
  {
   "cell_type": "code",
   "execution_count": 76,
   "metadata": {
    "execution": {
     "iopub.execute_input": "2022-02-04T13:19:51.074129Z",
     "iopub.status.busy": "2022-02-04T13:19:51.073463Z",
     "iopub.status.idle": "2022-02-04T13:19:53.480787Z",
     "shell.execute_reply": "2022-02-04T13:19:53.480201Z"
    },
    "id": "-sBTBWwR1XMr"
   },
   "outputs": [
    {
     "data": {
      "text/plain": "b'this is the first book i did .'"
     },
     "execution_count": 76,
     "metadata": {},
     "output_type": "execute_result"
    }
   ],
   "source": [
    "reloaded(\"este é o primeiro livro que eu fiz.\").numpy()"
   ]
  },
  {
   "cell_type": "markdown",
   "metadata": {
    "id": "RqQ1fIsLwkGE"
   },
   "source": [
    "## Summary\n",
    "\n",
    "In this tutorial, you learned about positional encoding, multi-head attention, the importance of masking and how to create a transformer.\n",
    "\n",
    "Try using a different dataset to train the transformer. You can also create the base transformer or transformer XL by changing the hyperparameters above. You can also use the layers defined here to create [BERT](https://arxiv.org/abs/1810.04805) and train state of the art models. Furthermore, you can implement beam search to get better predictions."
   ]
  }
 ],
 "metadata": {
  "accelerator": "GPU",
  "colab": {
   "collapsed_sections": [],
   "last_runtime": {
    "build_target": "//learning/deepmind/public/tools/ml_python:ml_notebook",
    "kind": "private"
   },
   "name": "transformer.ipynb",
   "provenance": [
    {
     "file_id": "1fpiHY_g7b1-bs_sSRWcbiw9qv4eDU4QZ",
     "timestamp": 1628275335747
    },
    {
     "file_id": "https://github.com/tensorflow/text/blob/master/docs/tutorials/transformer.ipynb",
     "timestamp": 1628273726995
    }
   ],
   "toc_visible": true
  },
  "kernelspec": {
   "display_name": "Python 3 (ipykernel)",
   "language": "python",
   "name": "python3"
  },
  "language_info": {
   "codemirror_mode": {
    "name": "ipython",
    "version": 3
   },
   "file_extension": ".py",
   "mimetype": "text/x-python",
   "name": "python",
   "nbconvert_exporter": "python",
   "pygments_lexer": "ipython3",
   "version": "3.7.5"
  }
 },
 "nbformat": 4,
 "nbformat_minor": 0
}