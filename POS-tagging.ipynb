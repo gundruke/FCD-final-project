{
 "cells": [
  {
   "cell_type": "code",
   "execution_count": 20,
   "id": "d0328ef1-58be-4a45-906e-fe5d4fab0992",
   "metadata": {},
   "outputs": [],
   "source": [
    "import spacy\n",
    "from prettytable import PrettyTable"
   ]
  },
  {
   "cell_type": "markdown",
   "id": "6447fbfe-39e3-4cd4-a55e-564b5ee98f73",
   "metadata": {},
   "source": [
    "## **Downloading the corpus**"
   ]
  },
  {
   "cell_type": "code",
   "execution_count": 4,
   "id": "40f7371a-14a7-45bf-a8fb-f15830ead6fc",
   "metadata": {},
   "outputs": [],
   "source": [
    "#downloading english and pt corpus\n",
    "\n",
    "#!python -m spacy download en_core_web_sm\n",
    "#!python -m spacy download pt_core_news_md"
   ]
  },
  {
   "cell_type": "markdown",
   "id": "79063142-ea57-4b0f-9923-e9618e5a38f6",
   "metadata": {},
   "source": [
    "Loading the english corpus"
   ]
  },
  {
   "cell_type": "code",
   "execution_count": 2,
   "id": "3ae46b70-d36a-438e-a80a-ec7940ec6fe6",
   "metadata": {},
   "outputs": [
    {
     "name": "stderr",
     "output_type": "stream",
     "text": [
      "/home/gundruke/anaconda3/lib/python3.8/site-packages/spacy/util.py:833: UserWarning: [W095] Model 'en_core_web_sm' (3.0.0) was trained with spaCy v3.0 and may not be 100% compatible with the current version (3.2.2). If you see errors or degraded performance, download a newer compatible model or retrain your custom model with the current spaCy version. For more details and available updates, run: python -m spacy validate\n",
      "  warnings.warn(warn_msg)\n"
     ]
    }
   ],
   "source": [
    "nlp_en = spacy.load(\"en_core_web_sm\")"
   ]
  },
  {
   "cell_type": "markdown",
   "id": "0c93346d-5c2a-4d05-92e4-dce99e6117d1",
   "metadata": {},
   "source": [
    "Mapping of the Parts of speech with its description, taken from Spacy's documentation."
   ]
  },
  {
   "cell_type": "code",
   "execution_count": 8,
   "id": "9e3e2365-fec6-4f5e-9418-7478d7985140",
   "metadata": {},
   "outputs": [],
   "source": [
    "pos_desc = {\n",
    "\"ADJ\"  : \"adjective\",\n",
    "\"ADP\"  : \"adposition\",\n",
    "\"ADV\"  : \"adverb\",              \n",
    "\"AUX\"  : \"auxiliary\",\n",
    "\"CONJ\" : \"conjunction\",         \n",
    "\"CCONJ\": \"coordinating conjunction\",\n",
    "\"DET\"  : \"determiner\",\n",
    "\"INTJ\" : \"interjection\",\n",
    "\"NOUN\" : \"noun\",\n",
    "\"NUM\"  : \"numeral\",\n",
    "\"PART\" : \"particle\",\n",
    "\"PRON\" : \"pronoun\",\n",
    "\"PROPN\": \"proper noun\",\n",
    "\"PUNCT\": \"punctuation\",\n",
    "\"SCONJ\": \"subordinating conjunction\",\n",
    "\"SYM\"  : \"symbol\",\n",
    "\"VERB\" : \"verb\",\n",
    "\"X\"    : \"other\",\n",
    "\"SPACE\": \"space\"\n",
    "}\n"
   ]
  },
  {
   "cell_type": "markdown",
   "id": "eea1e9d7-dbe5-41d8-907b-4cdf4c394731",
   "metadata": {},
   "source": [
    "| POS   | Description               | Examples                                      |\n",
    "|:-----:|:-------------------------:|:---------------------------------------------:|\n",
    "| ADJ   | adjective                 | big, old, green, incomprehensible, first      |\n",
    "| ADP   | adposition                | in, to, during                                |\n",
    "| ADV   | adverb                    | very, tomorrow, down, where, there            |\n",
    "| AUX   | auxiliary                 | is, has (done), will (do), should (do)        |\n",
    "| CONJ  | conjunction               | and, or, but                                  |\n",
    "| CCONJ | coordinating conjunction  | and, or, but                                  |\n",
    "| DET   | determiner                | a, an, the                                    |\n",
    "| INTJ  | interjection              | psst, ouch, bravo, hello                      |\n",
    "| NOUN  | noun                      | girl, cat, tree, air, beauty                  |\n",
    "| NUM   | numeral                   | 1, 2017, one, seventy-seven, IV, MMXIV        |\n",
    "| PART  | particle                  | ’s, not,                                      |\n",
    "| PRON  | pronoun                   | I, you, he, she, myself, themselves, somebody |\n",
    "| PROPN | proper noun               | Mary, John, London, NATO, HBO                 |\n",
    "| PUNCT | punctuation               | ., (, ), ?                                    |\n",
    "| SCONJ | subordinating conjunction | if, while, that                               |\n",
    "| SYM   | symbol                    | $, %, §, ©, +, −, ×, ÷, =, :), 😝             |\n",
    "| VERB  | verb                      | run, runs, running, eat, ate, eating          |\n",
    "| X     | other                     | sfpksdpsxmsa                                  |\n",
    "| SPACE | space                     |                                               |\n"
   ]
  },
  {
   "cell_type": "markdown",
   "id": "c820d85e-cdee-4d32-8450-63a253d471af",
   "metadata": {},
   "source": [
    "We'll only keep a few of the parts of speech to make the comparision easier"
   ]
  },
  {
   "cell_type": "code",
   "execution_count": 24,
   "id": "76d23d32-c2ee-44ce-8479-93268e42c0a8",
   "metadata": {},
   "outputs": [],
   "source": [
    "only_keeping_pos = [\"ADJ\", \"NOUN\", \"PROPN\", \"VERB\", \"ADV\"]"
   ]
  },
  {
   "cell_type": "code",
   "execution_count": 25,
   "id": "9c672641-d018-48ff-9bbb-0fede554c367",
   "metadata": {},
   "outputs": [],
   "source": [
    "def pos_tagger(doc):\n",
    "    table = PrettyTable([\"Word\", \"POS\", \"POS Description\"])\n",
    "    for token in doc:\n",
    "        if token.pos_ in only_keeping_pos:\n",
    "            table.add_row([token.lemma_, token.pos_, pos_desc[token.pos_]])\n",
    "    print(table)"
   ]
  },
  {
   "cell_type": "markdown",
   "id": "c7be831a-5910-4234-8d1c-8887f1136aa4",
   "metadata": {},
   "source": [
    "## **English**"
   ]
  },
  {
   "cell_type": "code",
   "execution_count": 26,
   "id": "91444092-be81-4ca6-bc69-1b76b1ca34ba",
   "metadata": {},
   "outputs": [
    {
     "name": "stdout",
     "output_type": "stream",
     "text": [
      "+---------+-------+-----------------+\n",
      "|   Word  |  POS  | POS Description |\n",
      "+---------+-------+-----------------+\n",
      "| Luciano | PROPN |   proper noun   |\n",
      "|  family |  NOUN |       noun      |\n",
      "| Luciano | PROPN |   proper noun   |\n",
      "|   year  |  NOUN |       noun      |\n",
      "|   old   |  ADJ  |    adjective    |\n",
      "|   have  |  VERB |       verb      |\n",
      "|  family |  NOUN |       noun      |\n",
      "| greatly |  ADV  |      adverb     |\n",
      "|  admire |  VERB |       verb      |\n",
      "+---------+-------+-----------------+\n"
     ]
    }
   ],
   "source": [
    "text_en = \"Luciano's family Luciano is eight years old and has a family that he greatly admires.\"\n",
    "doc_en = nlp_en(text_en)\n",
    "\n",
    "pos_tagger(doc_en)"
   ]
  },
  {
   "cell_type": "markdown",
   "id": "7044548c-b144-4b6c-8e03-80c15e6a1798",
   "metadata": {},
   "source": [
    "## **Portuguese**"
   ]
  },
  {
   "cell_type": "code",
   "execution_count": 27,
   "id": "2d4bfadc-32fe-43b6-bf2c-812eff8440b3",
   "metadata": {},
   "outputs": [],
   "source": [
    "nlp_pt = spacy.load('pt_core_news_md')"
   ]
  },
  {
   "cell_type": "code",
   "execution_count": 28,
   "id": "3570ec63-db7d-47e6-9f1d-a68c407a84f8",
   "metadata": {},
   "outputs": [
    {
     "name": "stdout",
     "output_type": "stream",
     "text": [
      "+---------+-------+-----------------+\n",
      "|   Word  |  POS  | POS Description |\n",
      "+---------+-------+-----------------+\n",
      "| família |  NOUN |       noun      |\n",
      "| Luciano | PROPN |   proper noun   |\n",
      "| Luciano | PROPN |   proper noun   |\n",
      "|   ter   |  VERB |       verb      |\n",
      "|   ano   |  NOUN |       noun      |\n",
      "| possuir |  VERB |       verb      |\n",
      "| família |  NOUN |       noun      |\n",
      "| admirar |  VERB |       verb      |\n",
      "+---------+-------+-----------------+\n"
     ]
    }
   ],
   "source": [
    "text_pt = \"A família de Luciano Luciano tem oito anos e possui uma família que admira muito.\"\n",
    "doc_pt = nlp_pt(text_pt)\n",
    "\n",
    "pos_tagger(doc_pt)"
   ]
  },
  {
   "cell_type": "code",
   "execution_count": null,
   "id": "b279e6ac-e662-4e98-95ea-d7b4316e7908",
   "metadata": {},
   "outputs": [],
   "source": []
  }
 ],
 "metadata": {
  "kernelspec": {
   "display_name": "Python 3 (ipykernel)",
   "language": "python",
   "name": "python3"
  },
  "language_info": {
   "codemirror_mode": {
    "name": "ipython",
    "version": 3
   },
   "file_extension": ".py",
   "mimetype": "text/x-python",
   "name": "python",
   "nbconvert_exporter": "python",
   "pygments_lexer": "ipython3",
   "version": "3.8.5"
  }
 },
 "nbformat": 4,
 "nbformat_minor": 5
}
